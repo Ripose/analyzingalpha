{
 "cells": [
  {
   "cell_type": "markdown",
   "id": "64451124",
   "metadata": {},
   "source": [
    "# Get Historical Price Data from Polygon.io"
   ]
  },
  {
   "cell_type": "markdown",
   "id": "14d13807",
   "metadata": {},
   "source": [
    "### Prerequisites\n",
    "- [How to Create a Virtual Environment in Python](https://analyzingalpha.com/python-virtual-environment)"
   ]
  },
  {
   "cell_type": "markdown",
   "id": "fefb7ad0",
   "metadata": {},
   "source": [
    "### Links\n",
    " - [YouTube](https://youtu.be/XPWHiKT_mU0)\n",
    " - [Blog Post](https://analyzingalpha.com/get-price-data-polygon-io)\n",
    " - [Polygon API](https://github.com/polygon-io/client-python/blob/master/polygon/rest/client.py)"
   ]
  },
  {
   "cell_type": "markdown",
   "id": "025ed053",
   "metadata": {},
   "source": [
    "## Install Polygon API"
   ]
  },
  {
   "cell_type": "markdown",
   "id": "60e9a24b",
   "metadata": {},
   "source": [
    "The first thing we'll want to do is activate our virtual environement and install the Polygon Python API REST client. If you don't know how to create a virtual environment:\n",
    "- [How to Create a Virtual Environment in Python](https://analyzingalpha.com/python-virtual-environment)"
   ]
  },
  {
   "cell_type": "code",
   "execution_count": 1,
   "id": "7b0a7c20",
   "metadata": {},
   "outputs": [
    {
     "name": "stdout",
     "output_type": "stream",
     "text": [
      "Looking in indexes: https://pypi.org/simple, https://packagecloud.io/github/git-lfs/pypi/simple\n",
      "Requirement already satisfied: polygon-api-client in /home/leosmigel/Development/environments/venv/lib/python3.9/site-packages (0.2.11)\n",
      "Requirement already satisfied: requests>=2.22.0 in /home/leosmigel/Development/environments/venv/lib/python3.9/site-packages (from polygon-api-client) (2.26.0)\n",
      "Requirement already satisfied: websockets>=8.0.2 in /home/leosmigel/Development/environments/venv/lib/python3.9/site-packages (from polygon-api-client) (10.0)\n",
      "Requirement already satisfied: websocket-client>=0.56.0 in /home/leosmigel/Development/environments/venv/lib/python3.9/site-packages (from polygon-api-client) (1.2.1)\n",
      "Requirement already satisfied: certifi>=2017.4.17 in /home/leosmigel/Development/environments/venv/lib/python3.9/site-packages (from requests>=2.22.0->polygon-api-client) (2021.5.30)\n",
      "Requirement already satisfied: urllib3<1.27,>=1.21.1 in /home/leosmigel/Development/environments/venv/lib/python3.9/site-packages (from requests>=2.22.0->polygon-api-client) (1.26.7)\n",
      "Requirement already satisfied: charset-normalizer~=2.0.0 in /home/leosmigel/Development/environments/venv/lib/python3.9/site-packages (from requests>=2.22.0->polygon-api-client) (2.0.6)\n",
      "Requirement already satisfied: idna<4,>=2.5 in /home/leosmigel/Development/environments/venv/lib/python3.9/site-packages (from requests>=2.22.0->polygon-api-client) (3.2)\n",
      "\u001b[33mWARNING: You are using pip version 21.2.4; however, version 21.3 is available.\n",
      "You should consider upgrading via the '/home/leosmigel/Development/environments/venv/bin/python -m pip install --upgrade pip' command.\u001b[0m\n"
     ]
    }
   ],
   "source": [
    "!pip install polygon-api-client"
   ]
  },
  {
   "cell_type": "markdown",
   "id": "5061dee2",
   "metadata": {},
   "source": [
    "### Add Imports"
   ]
  },
  {
   "cell_type": "markdown",
   "id": "3805eed7",
   "metadata": {},
   "source": [
    "Import the polygon RESTClient and the local_settings file, which should contain your api_key."
   ]
  },
  {
   "cell_type": "code",
   "execution_count": 2,
   "id": "18b24a89",
   "metadata": {},
   "outputs": [],
   "source": [
    "from polygon import RESTClient \n",
    "from local_settings import polygon as settings"
   ]
  },
  {
   "cell_type": "markdown",
   "id": "5440e34b",
   "metadata": {},
   "source": [
    "### Inhert RESTClient and Add Retry Strategy"
   ]
  },
  {
   "cell_type": "markdown",
   "id": "8b23b322",
   "metadata": {},
   "source": [
    "Here we inherit the functionality from Polygon's RESTClient. We call `super().__init__` to get initialize our class using our RESTClient's `__init__` giving us the ability to modify the `_session` attribute with an adapter."
   ]
  },
  {
   "cell_type": "code",
   "execution_count": 3,
   "id": "723f2cc6",
   "metadata": {},
   "outputs": [],
   "source": [
    "#from datetime import date\n",
    "from datetime import date, datetime\n",
    "from typing import Any, Optional\n",
    "import pandas as pd\n",
    "from requests.adapters import HTTPAdapter\n",
    "from urllib3.util.retry import Retry\n",
    "\n",
    "markets = ['crypto', 'stocks', 'fx']\n",
    "\n",
    "class MyRESTClient(RESTClient):\n",
    "    def __init__(self, auth_key: str=settings['api_key'], timeout:int=5):\n",
    "        super().__init__(auth_key)\n",
    "        retry_strategy = Retry(total=10,\n",
    "                               backoff_factor=10,\n",
    "                               status_forcelist=[429, 500, 502, 503, 504])\n",
    "        adapter = HTTPAdapter(max_retries=retry_strategy)\n",
    "        self._session.mount('https://', adapter)"
   ]
  },
  {
   "cell_type": "markdown",
   "id": "b26a1251",
   "metadata": {},
   "source": [
    "### Create Get Tickers Method"
   ]
  },
  {
   "cell_type": "markdown",
   "id": "267a6a3a",
   "metadata": {},
   "source": [
    "Let's create a client from our new child class `MyRESTClient` and see what we need to use the reference tickers method."
   ]
  },
  {
   "cell_type": "code",
   "execution_count": 4,
   "id": "38b63c07",
   "metadata": {},
   "outputs": [],
   "source": [
    "client = MyRESTClient(settings['api_key'])"
   ]
  },
  {
   "cell_type": "code",
   "execution_count": 5,
   "id": "8fb771df",
   "metadata": {},
   "outputs": [
    {
     "name": "stdout",
     "output_type": "stream",
     "text": [
      "Help on method reference_tickers_v3 in module polygon.rest.client:\n",
      "\n",
      "reference_tickers_v3(next_url=None, **query_params) -> polygon.rest.models.definitions.ReferenceTickersV3ApiResponse method of __main__.MyRESTClient instance\n",
      "\n"
     ]
    }
   ],
   "source": [
    "help(client.reference_tickers_v3)"
   ]
  },
  {
   "cell_type": "markdown",
   "id": "89999d25",
   "metadata": {},
   "source": [
    "After reviewing the help, we can now create our `get_tickers` method."
   ]
  },
  {
   "cell_type": "code",
   "execution_count": 6,
   "id": "ed373db6",
   "metadata": {},
   "outputs": [],
   "source": [
    "class MyRESTClient(RESTClient):\n",
    "    def __init__(self, auth_key: str=settings['api_key'], timeout:int=5):\n",
    "        super().__init__(auth_key)\n",
    "        retry_strategy = Retry(total=10,\n",
    "                               backoff_factor=10,\n",
    "                               status_forcelist=[429, 500, 502, 503, 504])\n",
    "        adapter = HTTPAdapter(max_retries=retry_strategy)\n",
    "        self._session.mount('https://', adapter)\n",
    "\n",
    "    def get_tickers(self, market:str=None) -> pd.DataFrame:\n",
    "        if not market in markets:\n",
    "            raise Exception(f'Market must be one of {markets}.')\n",
    "\n",
    "        resp = self.reference_tickers_v3(market=market)\n",
    "        if hasattr(resp, 'results'):\n",
    "            df = pd.DataFrame(resp.results)\n",
    "\n",
    "            while hasattr(resp, 'next_url'):\n",
    "                resp = self.reference_tickers_v3(next_url=resp.next_url)\n",
    "                df = df.append(pd.DataFrame(resp.results))\n",
    "\n",
    "            if market == 'crypto':\n",
    "                # Only use USD pairings.\n",
    "                df = df[df['currency_symbol'] == 'USD']\n",
    "                df['name'] = df['base_currency_name']\n",
    "                df = df[['ticker', 'name', 'market', 'active']]\n",
    "\n",
    "            df = df.drop_duplicates(subset='ticker')\n",
    "            return df\n",
    "        return None"
   ]
  },
  {
   "cell_type": "code",
   "execution_count": 7,
   "id": "c6520e30",
   "metadata": {},
   "outputs": [
    {
     "data": {
      "text/html": [
       "<div>\n",
       "<style scoped>\n",
       "    .dataframe tbody tr th:only-of-type {\n",
       "        vertical-align: middle;\n",
       "    }\n",
       "\n",
       "    .dataframe tbody tr th {\n",
       "        vertical-align: top;\n",
       "    }\n",
       "\n",
       "    .dataframe thead th {\n",
       "        text-align: right;\n",
       "    }\n",
       "</style>\n",
       "<table border=\"1\" class=\"dataframe\">\n",
       "  <thead>\n",
       "    <tr style=\"text-align: right;\">\n",
       "      <th></th>\n",
       "      <th>ticker</th>\n",
       "      <th>name</th>\n",
       "      <th>market</th>\n",
       "      <th>active</th>\n",
       "    </tr>\n",
       "  </thead>\n",
       "  <tbody>\n",
       "    <tr>\n",
       "      <th>0</th>\n",
       "      <td>X:1INCHUSD</td>\n",
       "      <td>1inch</td>\n",
       "      <td>crypto</td>\n",
       "      <td>True</td>\n",
       "    </tr>\n",
       "    <tr>\n",
       "      <th>1</th>\n",
       "      <td>X:AAVEUSD</td>\n",
       "      <td>Aave</td>\n",
       "      <td>crypto</td>\n",
       "      <td>True</td>\n",
       "    </tr>\n",
       "    <tr>\n",
       "      <th>2</th>\n",
       "      <td>X:ACATUSD</td>\n",
       "      <td>Alphacat</td>\n",
       "      <td>crypto</td>\n",
       "      <td>True</td>\n",
       "    </tr>\n",
       "    <tr>\n",
       "      <th>3</th>\n",
       "      <td>X:ACHUSD</td>\n",
       "      <td>Alchemy Pay</td>\n",
       "      <td>crypto</td>\n",
       "      <td>True</td>\n",
       "    </tr>\n",
       "    <tr>\n",
       "      <th>4</th>\n",
       "      <td>X:ACTUSD</td>\n",
       "      <td>Achain</td>\n",
       "      <td>crypto</td>\n",
       "      <td>True</td>\n",
       "    </tr>\n",
       "    <tr>\n",
       "      <th>...</th>\n",
       "      <td>...</td>\n",
       "      <td>...</td>\n",
       "      <td>...</td>\n",
       "      <td>...</td>\n",
       "    </tr>\n",
       "    <tr>\n",
       "      <th>16</th>\n",
       "      <td>X:ZECUSD</td>\n",
       "      <td>Zcash</td>\n",
       "      <td>crypto</td>\n",
       "      <td>True</td>\n",
       "    </tr>\n",
       "    <tr>\n",
       "      <th>17</th>\n",
       "      <td>X:ZENUSD</td>\n",
       "      <td>Horizen</td>\n",
       "      <td>crypto</td>\n",
       "      <td>True</td>\n",
       "    </tr>\n",
       "    <tr>\n",
       "      <th>18</th>\n",
       "      <td>X:ZILUSD</td>\n",
       "      <td>Zilliqa</td>\n",
       "      <td>crypto</td>\n",
       "      <td>True</td>\n",
       "    </tr>\n",
       "    <tr>\n",
       "      <th>19</th>\n",
       "      <td>X:ZRXUSD</td>\n",
       "      <td>0x</td>\n",
       "      <td>crypto</td>\n",
       "      <td>True</td>\n",
       "    </tr>\n",
       "    <tr>\n",
       "      <th>20</th>\n",
       "      <td>X:ZSCUSD</td>\n",
       "      <td>Zeusshield</td>\n",
       "      <td>crypto</td>\n",
       "      <td>True</td>\n",
       "    </tr>\n",
       "  </tbody>\n",
       "</table>\n",
       "<p>302 rows × 4 columns</p>\n",
       "</div>"
      ],
      "text/plain": [
       "        ticker         name  market  active\n",
       "0   X:1INCHUSD        1inch  crypto    True\n",
       "1    X:AAVEUSD         Aave  crypto    True\n",
       "2    X:ACATUSD     Alphacat  crypto    True\n",
       "3     X:ACHUSD  Alchemy Pay  crypto    True\n",
       "4     X:ACTUSD       Achain  crypto    True\n",
       "..         ...          ...     ...     ...\n",
       "16    X:ZECUSD        Zcash  crypto    True\n",
       "17    X:ZENUSD      Horizen  crypto    True\n",
       "18    X:ZILUSD      Zilliqa  crypto    True\n",
       "19    X:ZRXUSD           0x  crypto    True\n",
       "20    X:ZSCUSD   Zeusshield  crypto    True\n",
       "\n",
       "[302 rows x 4 columns]"
      ]
     },
     "execution_count": 7,
     "metadata": {},
     "output_type": "execute_result"
    }
   ],
   "source": [
    "client = MyRESTClient(settings['api_key'])\n",
    "df = client.get_tickers(market='crypto')\n",
    "df"
   ]
  },
  {
   "cell_type": "markdown",
   "id": "aac01f66",
   "metadata": {},
   "source": [
    "### Create Get Minute Bars Method"
   ]
  },
  {
   "cell_type": "markdown",
   "id": "8717d292",
   "metadata": {},
   "source": [
    "Let's do the same thing for the get minute bars method. We need to keep looping until we have all the data, making sure we only append data we haven't seen before."
   ]
  },
  {
   "cell_type": "code",
   "execution_count": 8,
   "id": "861567cd",
   "metadata": {},
   "outputs": [
    {
     "name": "stdout",
     "output_type": "stream",
     "text": [
      "Help on method stocks_equities_aggregates in module polygon.rest.client:\n",
      "\n",
      "stocks_equities_aggregates(ticker, multiplier, timespan, from_, to, **query_params) -> polygon.rest.models.definitions.StocksEquitiesAggregatesApiResponse method of __main__.MyRESTClient instance\n",
      "\n"
     ]
    }
   ],
   "source": [
    "help(client.stocks_equities_aggregates)"
   ]
  },
  {
   "cell_type": "code",
   "execution_count": 9,
   "id": "c28313b9",
   "metadata": {},
   "outputs": [],
   "source": [
    "class MyRESTClient(RESTClient):\n",
    "    def __init__(self, auth_key: str=settings['api_key'], timeout:int=5):\n",
    "        super().__init__(auth_key)\n",
    "        retry_strategy = Retry(total=10,\n",
    "                               backoff_factor=10,\n",
    "                               status_forcelist=[429, 500, 502, 503, 504])\n",
    "        adapter = HTTPAdapter(max_retries=retry_strategy)\n",
    "        self._session.mount('https://', adapter)\n",
    "\n",
    "    def get_tickers(self, market:str=None) -> pd.DataFrame:\n",
    "        if not market in markets:\n",
    "            raise Exception(f'Market must be one of {markets}.')\n",
    "\n",
    "        resp = self.reference_tickers_v3(market=market)\n",
    "        if hasattr(resp, 'results'):\n",
    "            df = pd.DataFrame(resp.results)\n",
    "\n",
    "            while hasattr(resp, 'next_url'):\n",
    "                resp = self.reference_tickers_v3(next_url=resp.next_url)\n",
    "                df = df.append(pd.DataFrame(resp.results))\n",
    "\n",
    "            if market == 'crypto':\n",
    "                # Only use USD pairings.\n",
    "                df = df[df['currency_symbol'] == 'USD']\n",
    "                df['name'] = df['base_currency_name']\n",
    "                df = df[['ticker', 'name', 'market', 'active']]\n",
    "\n",
    "            df = df.drop_duplicates(subset='ticker')\n",
    "            return df\n",
    "        return None\n",
    "\n",
    "    def get_bars(self, market:str=None, ticker:str=None, multiplier:int=1,\n",
    "                 timespan:str='minute', from_:date=None, to:date=None) -> pd.DataFrame:\n",
    "\n",
    "        if not market in markets:\n",
    "            raise Exception(f'Market must be one of {markets}.')\n",
    "\n",
    "        if ticker is None:\n",
    "            raise Exception('Ticker must not be None.')\n",
    "\n",
    "        from_ = from_ if from_ else date(2000,1,1)\n",
    "        to = to if to else date.today()\n",
    "\n",
    "        if market == 'crypto':\n",
    "            resp = self.crypto_aggregates(ticker, multiplier, timespan,\n",
    "                                          from_.strftime('%Y-%m-%d'), to.strftime('%Y-%m-%d'),\n",
    "                                          limit=50000)\n",
    "            df = pd.DataFrame(resp.results)\n",
    "            last_minute = 0\n",
    "            while resp.results[-1]['t'] > last_minute:\n",
    "                last_minute = resp.results[-1]['t'] # Last minute in response\n",
    "                last_minute_date = datetime.fromtimestamp(last_minute/1000).strftime('%Y-%m-%d')\n",
    "                resp = self.crypto_aggregates(ticker, multiplier, timespan,\n",
    "                                          last_minute_date, to.strftime('%Y-%m-%d'),\n",
    "                                          limit=50000)\n",
    "                new_bars = pd.DataFrame(resp.results)\n",
    "                df = df.append(new_bars[new_bars['t'] > last_minute])\n",
    "                \n",
    "            df['date'] = pd.to_datetime(df['t'], unit='ms')\n",
    "            df = df.rename(columns={'o':'open',\n",
    "                                    'h':'high',\n",
    "                                    'l':'low',\n",
    "                                    'c':'close',\n",
    "                                    'v':'volume',\n",
    "                                    'vw':'vwap',\n",
    "                                    'n':'transactions'})\n",
    "            df = df[['date','open','high','low','close','volume']]\n",
    "\n",
    "            return df\n",
    "        return None"
   ]
  },
  {
   "cell_type": "code",
   "execution_count": 10,
   "id": "8b69552e",
   "metadata": {},
   "outputs": [
    {
     "data": {
      "text/html": [
       "<div>\n",
       "<style scoped>\n",
       "    .dataframe tbody tr th:only-of-type {\n",
       "        vertical-align: middle;\n",
       "    }\n",
       "\n",
       "    .dataframe tbody tr th {\n",
       "        vertical-align: top;\n",
       "    }\n",
       "\n",
       "    .dataframe thead th {\n",
       "        text-align: right;\n",
       "    }\n",
       "</style>\n",
       "<table border=\"1\" class=\"dataframe\">\n",
       "  <thead>\n",
       "    <tr style=\"text-align: right;\">\n",
       "      <th></th>\n",
       "      <th>date</th>\n",
       "      <th>open</th>\n",
       "      <th>high</th>\n",
       "      <th>low</th>\n",
       "      <th>close</th>\n",
       "      <th>volume</th>\n",
       "    </tr>\n",
       "  </thead>\n",
       "  <tbody>\n",
       "    <tr>\n",
       "      <th>0</th>\n",
       "      <td>2021-01-01 00:00:00</td>\n",
       "      <td>28939.00</td>\n",
       "      <td>29032.87</td>\n",
       "      <td>28914.03</td>\n",
       "      <td>29030.19</td>\n",
       "      <td>178.512438</td>\n",
       "    </tr>\n",
       "    <tr>\n",
       "      <th>1</th>\n",
       "      <td>2021-01-01 00:01:00</td>\n",
       "      <td>29026.97</td>\n",
       "      <td>29086.90</td>\n",
       "      <td>28950.18</td>\n",
       "      <td>29018.00</td>\n",
       "      <td>119.447233</td>\n",
       "    </tr>\n",
       "    <tr>\n",
       "      <th>2</th>\n",
       "      <td>2021-01-01 00:02:00</td>\n",
       "      <td>29079.56</td>\n",
       "      <td>29079.56</td>\n",
       "      <td>28970.45</td>\n",
       "      <td>29049.76</td>\n",
       "      <td>86.455629</td>\n",
       "    </tr>\n",
       "    <tr>\n",
       "      <th>3</th>\n",
       "      <td>2021-01-01 00:03:00</td>\n",
       "      <td>29037.66</td>\n",
       "      <td>29069.39</td>\n",
       "      <td>28970.58</td>\n",
       "      <td>29041.72</td>\n",
       "      <td>117.940777</td>\n",
       "    </tr>\n",
       "    <tr>\n",
       "      <th>4</th>\n",
       "      <td>2021-01-01 00:04:00</td>\n",
       "      <td>28988.00</td>\n",
       "      <td>29057.73</td>\n",
       "      <td>28976.96</td>\n",
       "      <td>29034.30</td>\n",
       "      <td>38.084008</td>\n",
       "    </tr>\n",
       "    <tr>\n",
       "      <th>...</th>\n",
       "      <td>...</td>\n",
       "      <td>...</td>\n",
       "      <td>...</td>\n",
       "      <td>...</td>\n",
       "      <td>...</td>\n",
       "      <td>...</td>\n",
       "    </tr>\n",
       "    <tr>\n",
       "      <th>25480</th>\n",
       "      <td>2021-10-18 16:42:00</td>\n",
       "      <td>61828.85</td>\n",
       "      <td>61872.26</td>\n",
       "      <td>61819.00</td>\n",
       "      <td>61854.20</td>\n",
       "      <td>31.117746</td>\n",
       "    </tr>\n",
       "    <tr>\n",
       "      <th>25481</th>\n",
       "      <td>2021-10-18 16:43:00</td>\n",
       "      <td>61858.94</td>\n",
       "      <td>61897.34</td>\n",
       "      <td>61841.10</td>\n",
       "      <td>61862.40</td>\n",
       "      <td>23.213774</td>\n",
       "    </tr>\n",
       "    <tr>\n",
       "      <th>25482</th>\n",
       "      <td>2021-10-18 16:44:00</td>\n",
       "      <td>61876.89</td>\n",
       "      <td>61904.25</td>\n",
       "      <td>61831.00</td>\n",
       "      <td>61872.50</td>\n",
       "      <td>35.189237</td>\n",
       "    </tr>\n",
       "    <tr>\n",
       "      <th>25483</th>\n",
       "      <td>2021-10-18 16:45:00</td>\n",
       "      <td>61872.70</td>\n",
       "      <td>61910.12</td>\n",
       "      <td>61783.08</td>\n",
       "      <td>61825.10</td>\n",
       "      <td>45.262836</td>\n",
       "    </tr>\n",
       "    <tr>\n",
       "      <th>25484</th>\n",
       "      <td>2021-10-18 16:46:00</td>\n",
       "      <td>61816.45</td>\n",
       "      <td>61828.13</td>\n",
       "      <td>61549.49</td>\n",
       "      <td>61600.30</td>\n",
       "      <td>94.754344</td>\n",
       "    </tr>\n",
       "  </tbody>\n",
       "</table>\n",
       "<p>417165 rows × 6 columns</p>\n",
       "</div>"
      ],
      "text/plain": [
       "                     date      open      high       low     close      volume\n",
       "0     2021-01-01 00:00:00  28939.00  29032.87  28914.03  29030.19  178.512438\n",
       "1     2021-01-01 00:01:00  29026.97  29086.90  28950.18  29018.00  119.447233\n",
       "2     2021-01-01 00:02:00  29079.56  29079.56  28970.45  29049.76   86.455629\n",
       "3     2021-01-01 00:03:00  29037.66  29069.39  28970.58  29041.72  117.940777\n",
       "4     2021-01-01 00:04:00  28988.00  29057.73  28976.96  29034.30   38.084008\n",
       "...                   ...       ...       ...       ...       ...         ...\n",
       "25480 2021-10-18 16:42:00  61828.85  61872.26  61819.00  61854.20   31.117746\n",
       "25481 2021-10-18 16:43:00  61858.94  61897.34  61841.10  61862.40   23.213774\n",
       "25482 2021-10-18 16:44:00  61876.89  61904.25  61831.00  61872.50   35.189237\n",
       "25483 2021-10-18 16:45:00  61872.70  61910.12  61783.08  61825.10   45.262836\n",
       "25484 2021-10-18 16:46:00  61816.45  61828.13  61549.49  61600.30   94.754344\n",
       "\n",
       "[417165 rows x 6 columns]"
      ]
     },
     "execution_count": 10,
     "metadata": {},
     "output_type": "execute_result"
    }
   ],
   "source": [
    "start = datetime(2021,1,1)\n",
    "client = MyRESTClient(settings['api_key'])\n",
    "df = client.get_bars(market='crypto', ticker='X:BTCUSD', from_=start)\n",
    "df"
   ]
  }
 ],
 "metadata": {
  "kernelspec": {
   "display_name": "Python 3 (ipykernel)",
   "language": "python",
   "name": "python3"
  },
  "language_info": {
   "codemirror_mode": {
    "name": "ipython",
    "version": 3
   },
   "file_extension": ".py",
   "mimetype": "text/x-python",
   "name": "python",
   "nbconvert_exporter": "python",
   "pygments_lexer": "ipython3",
   "version": "3.9.7"
  }
 },
 "nbformat": 4,
 "nbformat_minor": 5
}
