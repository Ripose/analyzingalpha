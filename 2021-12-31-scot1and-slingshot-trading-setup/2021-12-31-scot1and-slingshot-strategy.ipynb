version https://git-lfs.github.com/spec/v1
oid sha256:a63cbd65e805d9204d526104022634185522278a45a28197fb046580f3d5fe7d
size 224463
