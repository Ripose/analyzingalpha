{
 "cells": [
  {
   "cell_type": "markdown",
   "id": "e7fe80dd",
   "metadata": {},
   "source": [
    "## How to Connect to PostgreSQL Using SQLAlchemy"
   ]
  },
  {
   "cell_type": "markdown",
   "id": "6a707a38",
   "metadata": {},
   "source": [
    "## Imports"
   ]
  },
  {
   "cell_type": "code",
   "execution_count": null,
   "id": "359dcc64",
   "metadata": {},
   "outputs": [],
   "source": [
    "from sqlalchemy import create_engine\n",
    "from sqlalchemy.orm import sessionmaker\n",
    "from sqlalchemy_utils import database_exists, create_database\n",
    "from local_settings import postgresql as settings"
   ]
  },
  {
   "cell_type": "code",
   "execution_count": null,
   "id": "70367492",
   "metadata": {},
   "outputs": [],
   "source": [
    "def get_engine(user, passwd, host, port, db):\n",
    "    url = f\"postgresql://{user}:{passwd}@{host}:{port}/{db}\"\n",
    "    if not database_exists(url):\n",
    "        create_database(url)\n",
    "    engine = create_engine(url, pool_size=50, echo=False)\n",
    "    return engine\n",
    "    "
   ]
  },
  {
   "cell_type": "code",
   "execution_count": null,
   "id": "87c6ba22",
   "metadata": {},
   "outputs": [],
   "source": [
    "engine = get_engine(settings['pguser'],\n",
    "          settings['pgpasswd'],\n",
    "          settings['pghost'],\n",
    "          settings['pgport'],\n",
    "          settings['pgdb'])"
   ]
  },
  {
   "cell_type": "code",
   "execution_count": null,
   "id": "27b157c8",
   "metadata": {},
   "outputs": [],
   "source": [
    "engine.url.database"
   ]
  },
  {
   "cell_type": "code",
   "execution_count": null,
   "id": "b4ae268f",
   "metadata": {},
   "outputs": [],
   "source": [
    "def get_engine_from_settings():\n",
    "    keys = ['pguser','pgpasswd','pghost','pgport','pgdb']\n",
    "    if not all(key in keys for key in settings.keys()):\n",
    "        raise Exception('Bad config file')\n",
    "        \n",
    "    return get_engine(settings['pguser'],\n",
    "                      settings['pgpasswd'],\n",
    "                      settings['pghost'],\n",
    "                      settings['pgport'],\n",
    "                      settings['pgdb'])"
   ]
  },
  {
   "cell_type": "code",
   "execution_count": null,
   "id": "92831092",
   "metadata": {},
   "outputs": [],
   "source": [
    "def get_session():\n",
    "    engine = get_engine_from_settings()\n",
    "    session = sessionmaker(bind=engine)()\n",
    "    return session"
   ]
  },
  {
   "cell_type": "code",
   "execution_count": null,
   "id": "995c5ca6",
   "metadata": {},
   "outputs": [],
   "source": [
    "session = get_session()"
   ]
  },
  {
   "cell_type": "code",
   "execution_count": null,
   "id": "fd832f84",
   "metadata": {},
   "outputs": [],
   "source": [
    "session.close()"
   ]
  },
  {
   "cell_type": "code",
   "execution_count": null,
   "id": "a3fed1d5",
   "metadata": {},
   "outputs": [],
   "source": [
    "engine = session.get_bind()\n",
    "engine.dispose() # Close all checked in sessions"
   ]
  }
 ],
 "metadata": {
  "kernelspec": {
   "display_name": "Python 3 (ipykernel)",
   "language": "python",
   "name": "python3"
  },
  "language_info": {
   "codemirror_mode": {
    "name": "ipython",
    "version": 3
   },
   "file_extension": ".py",
   "mimetype": "text/x-python",
   "name": "python",
   "nbconvert_exporter": "python",
   "pygments_lexer": "ipython3",
   "version": "3.9.7"
  }
 },
 "nbformat": 4,
 "nbformat_minor": 5
}
