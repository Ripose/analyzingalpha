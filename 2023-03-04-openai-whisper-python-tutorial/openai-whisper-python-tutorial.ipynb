version https://git-lfs.github.com/spec/v1
oid sha256:01b1f83dcb78e06f63ff7bdbc99bf6ee3869be2a4b5fc3e8e1339f38a7182f4e
size 120593
