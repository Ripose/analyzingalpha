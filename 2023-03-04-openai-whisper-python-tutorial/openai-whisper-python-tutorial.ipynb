{
 "cells": [
  {
   "cell_type": "markdown",
   "id": "2f5f6009-6ff0-4bb8-8610-2e25495268b6",
   "metadata": {
    "tags": []
   },
   "source": [
    "# OpenAI Whisper Python Tutorial"
   ]
  },
  {
   "cell_type": "markdown",
   "id": "31fb9e7b",
   "metadata": {
    "tags": [],
    "toc-hr-collapsed": true
   },
   "source": [
    "## 1. Getting Started with OpenAI Whisper"
   ]
  },
  {
   "cell_type": "markdown",
   "id": "9d283009",
   "metadata": {
    "tags": []
   },
   "source": [
    "### a. Install OpenAI Whisper Python Library"
   ]
  },
  {
   "cell_type": "code",
   "execution_count": 1,
   "id": "1bf78c41-c455-4427-af2c-6ed7a8e3004b",
   "metadata": {
    "collapsed": true,
    "jupyter": {
     "outputs_hidden": true
    },
    "tags": []
   },
   "outputs": [
    {
     "name": "stdout",
     "output_type": "stream",
     "text": [
      "Requirement already satisfied: openai-whisper in /home/leosmigel/Development/workspace/venv/lib/python3.10/site-packages (20230124)\n",
      "Requirement already satisfied: ffmpeg-python==0.2.0 in /home/leosmigel/Development/workspace/venv/lib/python3.10/site-packages (from openai-whisper) (0.2.0)\n",
      "Requirement already satisfied: more-itertools in /home/leosmigel/Development/workspace/venv/lib/python3.10/site-packages (from openai-whisper) (9.1.0)\n",
      "Requirement already satisfied: numpy in /home/leosmigel/Development/workspace/venv/lib/python3.10/site-packages (from openai-whisper) (1.24.2)\n",
      "Requirement already satisfied: torch in /home/leosmigel/Development/workspace/venv/lib/python3.10/site-packages (from openai-whisper) (1.13.1)\n",
      "Requirement already satisfied: tqdm in /home/leosmigel/Development/workspace/venv/lib/python3.10/site-packages (from openai-whisper) (4.64.1)\n",
      "Requirement already satisfied: transformers>=4.19.0 in /home/leosmigel/Development/workspace/venv/lib/python3.10/site-packages (from openai-whisper) (4.26.1)\n",
      "Requirement already satisfied: future in /home/leosmigel/Development/workspace/venv/lib/python3.10/site-packages (from ffmpeg-python==0.2.0->openai-whisper) (0.18.3)\n",
      "Requirement already satisfied: huggingface-hub<1.0,>=0.11.0 in /home/leosmigel/Development/workspace/venv/lib/python3.10/site-packages (from transformers>=4.19.0->openai-whisper) (0.12.1)\n",
      "Requirement already satisfied: requests in /home/leosmigel/Development/workspace/venv/lib/python3.10/site-packages (from transformers>=4.19.0->openai-whisper) (2.28.2)\n",
      "Requirement already satisfied: packaging>=20.0 in /home/leosmigel/Development/workspace/venv/lib/python3.10/site-packages (from transformers>=4.19.0->openai-whisper) (23.0)\n",
      "Requirement already satisfied: tokenizers!=0.11.3,<0.14,>=0.11.1 in /home/leosmigel/Development/workspace/venv/lib/python3.10/site-packages (from transformers>=4.19.0->openai-whisper) (0.13.2)\n",
      "Requirement already satisfied: filelock in /home/leosmigel/Development/workspace/venv/lib/python3.10/site-packages (from transformers>=4.19.0->openai-whisper) (3.9.0)\n",
      "Requirement already satisfied: regex!=2019.12.17 in /home/leosmigel/Development/workspace/venv/lib/python3.10/site-packages (from transformers>=4.19.0->openai-whisper) (2022.10.31)\n",
      "Requirement already satisfied: pyyaml>=5.1 in /home/leosmigel/Development/workspace/venv/lib/python3.10/site-packages (from transformers>=4.19.0->openai-whisper) (6.0)\n",
      "Requirement already satisfied: nvidia-cudnn-cu11==8.5.0.96 in /home/leosmigel/Development/workspace/venv/lib/python3.10/site-packages (from torch->openai-whisper) (8.5.0.96)\n",
      "Requirement already satisfied: typing-extensions in /home/leosmigel/Development/workspace/venv/lib/python3.10/site-packages (from torch->openai-whisper) (4.5.0)\n",
      "Requirement already satisfied: nvidia-cuda-nvrtc-cu11==11.7.99 in /home/leosmigel/Development/workspace/venv/lib/python3.10/site-packages (from torch->openai-whisper) (11.7.99)\n",
      "Requirement already satisfied: nvidia-cublas-cu11==11.10.3.66 in /home/leosmigel/Development/workspace/venv/lib/python3.10/site-packages (from torch->openai-whisper) (11.10.3.66)\n",
      "Requirement already satisfied: nvidia-cuda-runtime-cu11==11.7.99 in /home/leosmigel/Development/workspace/venv/lib/python3.10/site-packages (from torch->openai-whisper) (11.7.99)\n",
      "Requirement already satisfied: wheel in /home/leosmigel/Development/workspace/venv/lib/python3.10/site-packages (from nvidia-cublas-cu11==11.10.3.66->torch->openai-whisper) (0.38.4)\n",
      "Requirement already satisfied: setuptools in /home/leosmigel/Development/workspace/venv/lib/python3.10/site-packages (from nvidia-cublas-cu11==11.10.3.66->torch->openai-whisper) (59.6.0)\n",
      "Requirement already satisfied: charset-normalizer<4,>=2 in /home/leosmigel/Development/workspace/venv/lib/python3.10/site-packages (from requests->transformers>=4.19.0->openai-whisper) (2.1.1)\n",
      "Requirement already satisfied: urllib3<1.27,>=1.21.1 in /home/leosmigel/Development/workspace/venv/lib/python3.10/site-packages (from requests->transformers>=4.19.0->openai-whisper) (1.26.14)\n",
      "Requirement already satisfied: idna<4,>=2.5 in /home/leosmigel/Development/workspace/venv/lib/python3.10/site-packages (from requests->transformers>=4.19.0->openai-whisper) (3.4)\n",
      "Requirement already satisfied: certifi>=2017.4.17 in /home/leosmigel/Development/workspace/venv/lib/python3.10/site-packages (from requests->transformers>=4.19.0->openai-whisper) (2022.12.7)\n"
     ]
    }
   ],
   "source": [
    "!pip install -U openai-whisper"
   ]
  },
  {
   "cell_type": "markdown",
   "id": "bb1cb6e9",
   "metadata": {
    "tags": []
   },
   "source": [
    "### b. Load the OpenAI Whisper Model"
   ]
  },
  {
   "cell_type": "code",
   "execution_count": 2,
   "id": "c989af14-2a18-4390-91be-d8e63d623fe2",
   "metadata": {
    "tags": []
   },
   "outputs": [],
   "source": [
    "import whisper\n",
    "model = whisper.load_model(\"base\")"
   ]
  },
  {
   "cell_type": "markdown",
   "id": "2c7d3a78",
   "metadata": {
    "tags": [],
    "toc-hr-collapsed": true
   },
   "source": [
    "## 2. Transcribing Audio"
   ]
  },
  {
   "cell_type": "markdown",
   "id": "11477b44",
   "metadata": {
    "tags": []
   },
   "source": [
    "### a. Download & Transcribe Kaggle Data"
   ]
  },
  {
   "cell_type": "markdown",
   "id": "6792557a-b3df-47a6-814f-bbaf730635d8",
   "metadata": {},
   "source": [
    "https://www.kaggle.com/datasets/pavanelisetty/sample-audio-files-for-speech-recognition\n"
   ]
  },
  {
   "cell_type": "code",
   "execution_count": null,
   "id": "1e8af2b9",
   "metadata": {},
   "outputs": [],
   "source": []
  },
  {
   "cell_type": "code",
   "execution_count": 3,
   "id": "8cffa3d6-0320-4dd8-8c15-0e6faa46d3bc",
   "metadata": {
    "tags": []
   },
   "outputs": [
    {
     "name": "stdout",
     "output_type": "stream",
     "text": [
      "Detecting language using up to the first 30 seconds. Use `--language` to specify the language\n",
      "Detected language: English\n",
      "[00:00.000 --> 00:04.000]  The stale smell of old beer lingers.\n",
      "[00:04.000 --> 00:07.000]  It takes heat to bring out the odor.\n",
      "[00:07.000 --> 00:10.000]  A cold dip restores health and zest.\n",
      "[00:10.000 --> 00:12.000]  A salt pickle tastes fine with ham.\n",
      "[00:12.000 --> 00:15.000]  Tacos al pastor are my favorite.\n",
      "[00:15.000 --> 00:44.000]  A zestful food is the hot cross bun.\n"
     ]
    },
    {
     "data": {
      "text/plain": [
       "' The stale smell of old beer lingers. It takes heat to bring out the odor. A cold dip restores health and zest. A salt pickle tastes fine with ham. Tacos al pastor are my favorite. A zestful food is the hot cross bun.'"
      ]
     },
     "execution_count": 3,
     "metadata": {},
     "output_type": "execute_result"
    }
   ],
   "source": [
    "result = model.transcribe(\"harvard.wav\", verbose=True)\n",
    "result['text']"
   ]
  },
  {
   "cell_type": "markdown",
   "id": "c6d98258",
   "metadata": {
    "tags": []
   },
   "source": [
    "### b. Process the Response"
   ]
  },
  {
   "cell_type": "code",
   "execution_count": 4,
   "id": "0e521fb7-903e-409f-8b24-d5a00240f2f6",
   "metadata": {
    "tags": []
   },
   "outputs": [
    {
     "data": {
      "text/plain": [
       "[{'id': 0,\n",
       "  'seek': 0,\n",
       "  'start': 0.0,\n",
       "  'end': 4.0,\n",
       "  'text': ' The stale smell of old beer lingers.',\n",
       "  'tokens': [440, 342, 1220, 4316, 295, 1331, 8795, 22949, 433, 13],\n",
       "  'temperature': 0.0,\n",
       "  'avg_logprob': -0.1840377352130947,\n",
       "  'compression_ratio': 1.4210526315789473,\n",
       "  'no_speech_prob': 0.05561279505491257},\n",
       " {'id': 1,\n",
       "  'seek': 0,\n",
       "  'start': 4.0,\n",
       "  'end': 7.0,\n",
       "  'text': ' It takes heat to bring out the odor.',\n",
       "  'tokens': [467, 2516, 3738, 281, 1565, 484, 264, 41176, 13],\n",
       "  'temperature': 0.0,\n",
       "  'avg_logprob': -0.1840377352130947,\n",
       "  'compression_ratio': 1.4210526315789473,\n",
       "  'no_speech_prob': 0.05561279505491257},\n",
       " {'id': 2,\n",
       "  'seek': 0,\n",
       "  'start': 7.0,\n",
       "  'end': 10.0,\n",
       "  'text': ' A cold dip restores health and zest.',\n",
       "  'tokens': [316, 3554, 10460, 1472, 2706, 1585, 293, 37889, 13],\n",
       "  'temperature': 0.0,\n",
       "  'avg_logprob': -0.1840377352130947,\n",
       "  'compression_ratio': 1.4210526315789473,\n",
       "  'no_speech_prob': 0.05561279505491257},\n",
       " {'id': 3,\n",
       "  'seek': 0,\n",
       "  'start': 10.0,\n",
       "  'end': 12.0,\n",
       "  'text': ' A salt pickle tastes fine with ham.',\n",
       "  'tokens': [316, 5139, 31433, 8666, 2489, 365, 7852, 13],\n",
       "  'temperature': 0.0,\n",
       "  'avg_logprob': -0.1840377352130947,\n",
       "  'compression_ratio': 1.4210526315789473,\n",
       "  'no_speech_prob': 0.05561279505491257},\n",
       " {'id': 4,\n",
       "  'seek': 0,\n",
       "  'start': 12.0,\n",
       "  'end': 15.0,\n",
       "  'text': ' Tacos al pastor are my favorite.',\n",
       "  'tokens': [38848, 329, 419, 21193, 366, 452, 2954, 13],\n",
       "  'temperature': 0.0,\n",
       "  'avg_logprob': -0.1840377352130947,\n",
       "  'compression_ratio': 1.4210526315789473,\n",
       "  'no_speech_prob': 0.05561279505491257},\n",
       " {'id': 5,\n",
       "  'seek': 1500,\n",
       "  'start': 15.0,\n",
       "  'end': 44.0,\n",
       "  'text': ' A zestful food is the hot cross bun.',\n",
       "  'tokens': [50364,\n",
       "   316,\n",
       "   37889,\n",
       "   906,\n",
       "   1755,\n",
       "   307,\n",
       "   264,\n",
       "   2368,\n",
       "   3278,\n",
       "   6702,\n",
       "   13,\n",
       "   51814],\n",
       "  'temperature': 0.0,\n",
       "  'avg_logprob': -0.28448068178617036,\n",
       "  'compression_ratio': 0.8181818181818182,\n",
       "  'no_speech_prob': 0.0005544174928218126}]"
      ]
     },
     "execution_count": 4,
     "metadata": {},
     "output_type": "execute_result"
    }
   ],
   "source": [
    "result['segments']"
   ]
  },
  {
   "cell_type": "code",
   "execution_count": 5,
   "id": "3d3ad5b3-0cac-4f25-bdf3-025eaebde3b9",
   "metadata": {
    "tags": []
   },
   "outputs": [
    {
     "name": "stdout",
     "output_type": "stream",
     "text": [
      "1 -   The stale smell of old beer lingers.\n",
      "2 -   It takes heat to bring out the odor.\n",
      "3 -   A cold dip restores health and zest.\n",
      "4 -   A salt pickle tastes fine with ham.\n",
      "5 -   Tacos al pastor are my favorite.\n",
      "6 -   A zestful food is the hot cross bun.\n"
     ]
    }
   ],
   "source": [
    "for i, seg in enumerate(result['segments']):\n",
    "    print(i+1, \"- \", seg['text'])"
   ]
  },
  {
   "cell_type": "code",
   "execution_count": 6,
   "id": "6beab2bf-13cb-4ba4-9465-790e3890f1ae",
   "metadata": {
    "tags": []
   },
   "outputs": [
    {
     "data": {
      "text/html": [
       "<div>\n",
       "<style scoped>\n",
       "    .dataframe tbody tr th:only-of-type {\n",
       "        vertical-align: middle;\n",
       "    }\n",
       "\n",
       "    .dataframe tbody tr th {\n",
       "        vertical-align: top;\n",
       "    }\n",
       "\n",
       "    .dataframe thead th {\n",
       "        text-align: right;\n",
       "    }\n",
       "</style>\n",
       "<table border=\"1\" class=\"dataframe\">\n",
       "  <thead>\n",
       "    <tr style=\"text-align: right;\">\n",
       "      <th></th>\n",
       "      <th>id</th>\n",
       "      <th>seek</th>\n",
       "      <th>start</th>\n",
       "      <th>end</th>\n",
       "      <th>text</th>\n",
       "      <th>tokens</th>\n",
       "      <th>temperature</th>\n",
       "      <th>avg_logprob</th>\n",
       "      <th>compression_ratio</th>\n",
       "      <th>no_speech_prob</th>\n",
       "    </tr>\n",
       "  </thead>\n",
       "  <tbody>\n",
       "    <tr>\n",
       "      <th>0</th>\n",
       "      <td>0</td>\n",
       "      <td>0</td>\n",
       "      <td>0.0</td>\n",
       "      <td>4.0</td>\n",
       "      <td>The stale smell of old beer lingers.</td>\n",
       "      <td>[440, 342, 1220, 4316, 295, 1331, 8795, 22949,...</td>\n",
       "      <td>0.0</td>\n",
       "      <td>-0.184038</td>\n",
       "      <td>1.421053</td>\n",
       "      <td>0.055613</td>\n",
       "    </tr>\n",
       "    <tr>\n",
       "      <th>1</th>\n",
       "      <td>1</td>\n",
       "      <td>0</td>\n",
       "      <td>4.0</td>\n",
       "      <td>7.0</td>\n",
       "      <td>It takes heat to bring out the odor.</td>\n",
       "      <td>[467, 2516, 3738, 281, 1565, 484, 264, 41176, 13]</td>\n",
       "      <td>0.0</td>\n",
       "      <td>-0.184038</td>\n",
       "      <td>1.421053</td>\n",
       "      <td>0.055613</td>\n",
       "    </tr>\n",
       "    <tr>\n",
       "      <th>2</th>\n",
       "      <td>2</td>\n",
       "      <td>0</td>\n",
       "      <td>7.0</td>\n",
       "      <td>10.0</td>\n",
       "      <td>A cold dip restores health and zest.</td>\n",
       "      <td>[316, 3554, 10460, 1472, 2706, 1585, 293, 3788...</td>\n",
       "      <td>0.0</td>\n",
       "      <td>-0.184038</td>\n",
       "      <td>1.421053</td>\n",
       "      <td>0.055613</td>\n",
       "    </tr>\n",
       "    <tr>\n",
       "      <th>3</th>\n",
       "      <td>3</td>\n",
       "      <td>0</td>\n",
       "      <td>10.0</td>\n",
       "      <td>12.0</td>\n",
       "      <td>A salt pickle tastes fine with ham.</td>\n",
       "      <td>[316, 5139, 31433, 8666, 2489, 365, 7852, 13]</td>\n",
       "      <td>0.0</td>\n",
       "      <td>-0.184038</td>\n",
       "      <td>1.421053</td>\n",
       "      <td>0.055613</td>\n",
       "    </tr>\n",
       "    <tr>\n",
       "      <th>4</th>\n",
       "      <td>4</td>\n",
       "      <td>0</td>\n",
       "      <td>12.0</td>\n",
       "      <td>15.0</td>\n",
       "      <td>Tacos al pastor are my favorite.</td>\n",
       "      <td>[38848, 329, 419, 21193, 366, 452, 2954, 13]</td>\n",
       "      <td>0.0</td>\n",
       "      <td>-0.184038</td>\n",
       "      <td>1.421053</td>\n",
       "      <td>0.055613</td>\n",
       "    </tr>\n",
       "  </tbody>\n",
       "</table>\n",
       "</div>"
      ],
      "text/plain": [
       "   id  seek  start   end                                   text  \\\n",
       "0   0     0    0.0   4.0   The stale smell of old beer lingers.   \n",
       "1   1     0    4.0   7.0   It takes heat to bring out the odor.   \n",
       "2   2     0    7.0  10.0   A cold dip restores health and zest.   \n",
       "3   3     0   10.0  12.0    A salt pickle tastes fine with ham.   \n",
       "4   4     0   12.0  15.0       Tacos al pastor are my favorite.   \n",
       "\n",
       "                                              tokens  temperature  \\\n",
       "0  [440, 342, 1220, 4316, 295, 1331, 8795, 22949,...          0.0   \n",
       "1  [467, 2516, 3738, 281, 1565, 484, 264, 41176, 13]          0.0   \n",
       "2  [316, 3554, 10460, 1472, 2706, 1585, 293, 3788...          0.0   \n",
       "3      [316, 5139, 31433, 8666, 2489, 365, 7852, 13]          0.0   \n",
       "4       [38848, 329, 419, 21193, 366, 452, 2954, 13]          0.0   \n",
       "\n",
       "   avg_logprob  compression_ratio  no_speech_prob  \n",
       "0    -0.184038           1.421053        0.055613  \n",
       "1    -0.184038           1.421053        0.055613  \n",
       "2    -0.184038           1.421053        0.055613  \n",
       "3    -0.184038           1.421053        0.055613  \n",
       "4    -0.184038           1.421053        0.055613  "
      ]
     },
     "execution_count": 6,
     "metadata": {},
     "output_type": "execute_result"
    }
   ],
   "source": [
    "import pandas as pd\n",
    "speech = pd.DataFrame.from_dict(result['segments'])\n",
    "speech.head()"
   ]
  },
  {
   "cell_type": "markdown",
   "id": "bd7ddf65",
   "metadata": {
    "tags": []
   },
   "source": [
    "### c. Language Detection"
   ]
  },
  {
   "cell_type": "code",
   "execution_count": 7,
   "id": "af357797-d488-414d-8012-dfad1d025cbf",
   "metadata": {
    "tags": []
   },
   "outputs": [],
   "source": [
    "audio = whisper.load_audio(\"harvard.wav\")\n",
    "audio = whisper.pad_or_trim(audio)"
   ]
  },
  {
   "cell_type": "code",
   "execution_count": 8,
   "id": "acfbd8f7-7bc5-45de-894d-645b8eaf16fe",
   "metadata": {
    "tags": []
   },
   "outputs": [
    {
     "data": {
      "text/plain": [
       "[('en', 0.9977269768714905),\n",
       " ('ja', 0.0006539151072502136),\n",
       " ('nn', 0.00031940656481310725),\n",
       " ('ko', 0.00021457935508806258),\n",
       " ('pt', 0.0001776816206984222),\n",
       " ('es', 0.00011555679520824924),\n",
       " ('la', 0.00010099961946252733),\n",
       " ('fr', 8.32807199913077e-05),\n",
       " ('haw', 7.064134842948988e-05),\n",
       " ('de', 6.923051114426926e-05)]"
      ]
     },
     "execution_count": 8,
     "metadata": {},
     "output_type": "execute_result"
    }
   ],
   "source": [
    "mel = whisper.log_mel_spectrogram(audio).to(model.device)\n",
    "_, probs = model.detect_language(mel)\n",
    "sorted(probs.items(), key=lambda x:x[1], reverse=True)[:10]"
   ]
  },
  {
   "cell_type": "markdown",
   "id": "69430700",
   "metadata": {
    "tags": [],
    "toc-hr-collapsed": true
   },
   "source": [
    "## 3. Earnings Call Mini-Project"
   ]
  },
  {
   "cell_type": "markdown",
   "id": "ae47adcc",
   "metadata": {
    "tags": []
   },
   "source": [
    "### a. Get & Trim Microsoft's Audio Stream"
   ]
  },
  {
   "cell_type": "markdown",
   "id": "6c0a6903",
   "metadata": {
    "tags": []
   },
   "source": [
    "#### i. Install PyTube"
   ]
  },
  {
   "cell_type": "code",
   "execution_count": 9,
   "id": "01348495-3402-4c69-b580-3e4e9e874966",
   "metadata": {
    "tags": []
   },
   "outputs": [
    {
     "name": "stdout",
     "output_type": "stream",
     "text": [
      "Requirement already satisfied: pytube in /home/leosmigel/Development/workspace/venv/lib/python3.10/site-packages (12.1.2)\n"
     ]
    }
   ],
   "source": [
    "!pip install pytube"
   ]
  },
  {
   "cell_type": "code",
   "execution_count": 1,
   "id": "cc140b54-9f2c-4f39-88b7-f062dc39639b",
   "metadata": {
    "tags": []
   },
   "outputs": [],
   "source": [
    "from pytube import YouTube"
   ]
  },
  {
   "cell_type": "markdown",
   "id": "6ba3659f-9aad-4b52-8728-897a5f7a3805",
   "metadata": {
    "tags": []
   },
   "source": [
    "#### ii. Get Content Video & Audio Streams"
   ]
  },
  {
   "cell_type": "code",
   "execution_count": 2,
   "id": "ef9e5225-fdce-4e3f-9e49-62886795f980",
   "metadata": {
    "tags": []
   },
   "outputs": [],
   "source": [
    "youtube_video_url = \"https://www.youtube.com/watch?v=3haowENzdLo\"\n",
    "youtube_video_content = YouTube(youtube_video_url)"
   ]
  },
  {
   "cell_type": "markdown",
   "id": "68a2dded",
   "metadata": {
    "tags": []
   },
   "source": [
    "#### iii. Download Audio Stream"
   ]
  },
  {
   "cell_type": "code",
   "execution_count": 12,
   "id": "57827c16-31bf-479e-a030-9e9f2611032d",
   "metadata": {
    "tags": []
   },
   "outputs": [
    {
     "name": "stdout",
     "output_type": "stream",
     "text": [
      "<Stream: itag=\"139\" mime_type=\"audio/mp4\" abr=\"48kbps\" acodec=\"mp4a.40.5\" progressive=\"False\" type=\"audio\">\n",
      "<Stream: itag=\"140\" mime_type=\"audio/mp4\" abr=\"128kbps\" acodec=\"mp4a.40.2\" progressive=\"False\" type=\"audio\">\n",
      "<Stream: itag=\"251\" mime_type=\"audio/webm\" abr=\"160kbps\" acodec=\"opus\" progressive=\"False\" type=\"audio\">\n"
     ]
    }
   ],
   "source": [
    "audio_streams = youtube_video_content.streams.filter(only_audio = True)\n",
    "for stream in audio_streams:\n",
    "    print(stream)"
   ]
  },
  {
   "cell_type": "code",
   "execution_count": 13,
   "id": "16e4059f-bf22-41ee-bc46-68340d3aa753",
   "metadata": {
    "tags": []
   },
   "outputs": [
    {
     "name": "stdout",
     "output_type": "stream",
     "text": [
      "<Stream: itag=\"140\" mime_type=\"audio/mp4\" abr=\"128kbps\" acodec=\"mp4a.40.2\" progressive=\"False\" type=\"audio\">\n"
     ]
    }
   ],
   "source": [
    "audio_stream = audio_streams[1]\n",
    "print(audio_stream)"
   ]
  },
  {
   "cell_type": "markdown",
   "id": "b44df556",
   "metadata": {
    "tags": []
   },
   "source": [
    "#### iv. Trim Audio with FFMPEG"
   ]
  },
  {
   "cell_type": "code",
   "execution_count": 14,
   "id": "300fd428-3def-4104-b52b-fc82528be529",
   "metadata": {
    "tags": []
   },
   "outputs": [
    {
     "name": "stdout",
     "output_type": "stream",
     "text": [
      "ffmpeg version 4.4.2-0ubuntu0.22.04.1 Copyright (c) 2000-2021 the FFmpeg developers\n",
      "built with gcc 11 (Ubuntu 11.2.0-19ubuntu1)\n",
      "configuration: --prefix=/usr --extra-version=0ubuntu0.22.04.1 --toolchain=hardened --libdir=/usr/lib/x86_64-linux-gnu --incdir=/usr/include/x86_64-linux-gnu --arch=amd64 --enable-gpl --disable-stripping --enable-gnutls --enable-ladspa --enable-libaom --enable-libass --enable-libbluray --enable-libbs2b --enable-libcaca --enable-libcdio --enable-libcodec2 --enable-libdav1d --enable-libflite --enable-libfontconfig --enable-libfreetype --enable-libfribidi --enable-libgme --enable-libgsm --enable-libjack --enable-libmp3lame --enable-libmysofa --enable-libopenjpeg --enable-libopenmpt --enable-libopus --enable-libpulse --enable-librabbitmq --enable-librubberband --enable-libshine --enable-libsnappy --enable-libsoxr --enable-libspeex --enable-libsrt --enable-libssh --enable-libtheora --enable-libtwolame --enable-libvidstab --enable-libvorbis --enable-libvpx --enable-libwebp --enable-libx265 --enable-libxml2 --enable-libxvid --enable-libzimg --enable-libzmq --enable-libzvbi --enable-lv2 --enable-omx --enable-openal --enable-opencl --enable-opengl --enable-sdl2 --enable-pocketsphinx --enable-librsvg --enable-libmfx --enable-libdc1394 --enable-libdrm --enable-libiec61883 --enable-chromaprint --enable-frei0r --enable-libx264 --enable-shared\n",
      "libavutil      56. 70.100 / 56. 70.100\n",
      "libavcodec     58.134.100 / 58.134.100\n",
      "libavformat    58. 76.100 / 58. 76.100\n",
      "libavdevice    58. 13.100 / 58. 13.100\n",
      "libavfilter     7.110.100 /  7.110.100\n",
      "libswscale      5.  9.100 /  5.  9.100\n",
      "libswresample   3.  9.100 /  3.  9.100\n",
      "libpostproc    55.  9.100 / 55.  9.100\n"
     ]
    }
   ],
   "source": [
    "!ffmpeg -version"
   ]
  },
  {
   "cell_type": "code",
   "execution_count": 15,
   "id": "6a57249c-afb7-410d-a024-62e9ca765f45",
   "metadata": {
    "tags": []
   },
   "outputs": [],
   "source": [
    "# presentation starts from 32:04 and ends at 1:13:59 \n",
    "# QA starts from 1:13:59\n",
    "# https://www.metric-conversions.org/time/minutes-to-seconds.htm\n",
    "\n",
    "b"
   ]
  },
  {
   "cell_type": "markdown",
   "id": "b7fe314d",
   "metadata": {
    "tags": []
   },
   "source": [
    "### b. Transcribe Trimmed Audio"
   ]
  },
  {
   "cell_type": "code",
   "execution_count": 16,
   "id": "b9ca7b60-1caa-4c87-9f98-57e1b82aefca",
   "metadata": {
    "tags": []
   },
   "outputs": [
    {
     "data": {
      "text/plain": [
       "' Good afternoon and thank you for joining us today. On the call with me are Satin Adela, Chairman and Chief Executive Officer, Amy Hood, Chief Financial Officer, Alice Chala, Chief Accounting Officer, and Keith Tholiver, Deputy General Counsel. On the Microsoft Invest Relations website, you can find our earnings press release and financial summary slide deck, which is intended to supplement our pr'"
      ]
     },
     "execution_count": 16,
     "metadata": {},
     "output_type": "execute_result"
    }
   ],
   "source": [
    "import whisper\n",
    "\n",
    "model = whisper.load_model(\"base\")\n",
    "result = model.transcribe(\"earnings_call_microsoft_q4_2022_filtered.mp4\")\n",
    "result[\"text\"][:400]"
   ]
  },
  {
   "cell_type": "markdown",
   "id": "8aef406e",
   "metadata": {
    "tags": [],
    "toc-hr-collapsed": true
   },
   "source": [
    "### c. Summarize Whisper-Transcription with GPT-3"
   ]
  },
  {
   "cell_type": "markdown",
   "id": "91af9b2e",
   "metadata": {
    "tags": []
   },
   "source": [
    "#### i. Install & Load OpenAI\n",
    "https://analyzingalpha.com/openai-api-python-tutorial"
   ]
  },
  {
   "cell_type": "code",
   "execution_count": 17,
   "id": "4a43ff5b-4059-4424-a322-2ab8f8163f57",
   "metadata": {},
   "outputs": [
    {
     "name": "stdout",
     "output_type": "stream",
     "text": [
      "Requirement already satisfied: openai in /home/leosmigel/Development/workspace/venv/lib/python3.10/site-packages (0.26.5)\n",
      "Requirement already satisfied: requests>=2.20 in /home/leosmigel/Development/workspace/venv/lib/python3.10/site-packages (from openai) (2.28.2)\n",
      "Requirement already satisfied: aiohttp in /home/leosmigel/Development/workspace/venv/lib/python3.10/site-packages (from openai) (3.8.3)\n",
      "Requirement already satisfied: tqdm in /home/leosmigel/Development/workspace/venv/lib/python3.10/site-packages (from openai) (4.64.1)\n",
      "Requirement already satisfied: charset-normalizer<4,>=2 in /home/leosmigel/Development/workspace/venv/lib/python3.10/site-packages (from requests>=2.20->openai) (2.1.1)\n",
      "Requirement already satisfied: certifi>=2017.4.17 in /home/leosmigel/Development/workspace/venv/lib/python3.10/site-packages (from requests>=2.20->openai) (2022.12.7)\n",
      "Requirement already satisfied: idna<4,>=2.5 in /home/leosmigel/Development/workspace/venv/lib/python3.10/site-packages (from requests>=2.20->openai) (3.4)\n",
      "Requirement already satisfied: urllib3<1.27,>=1.21.1 in /home/leosmigel/Development/workspace/venv/lib/python3.10/site-packages (from requests>=2.20->openai) (1.26.14)\n",
      "Requirement already satisfied: async-timeout<5.0,>=4.0.0a3 in /home/leosmigel/Development/workspace/venv/lib/python3.10/site-packages (from aiohttp->openai) (4.0.2)\n",
      "Requirement already satisfied: aiosignal>=1.1.2 in /home/leosmigel/Development/workspace/venv/lib/python3.10/site-packages (from aiohttp->openai) (1.3.1)\n",
      "Requirement already satisfied: multidict<7.0,>=4.5 in /home/leosmigel/Development/workspace/venv/lib/python3.10/site-packages (from aiohttp->openai) (6.0.4)\n",
      "Requirement already satisfied: attrs>=17.3.0 in /home/leosmigel/Development/workspace/venv/lib/python3.10/site-packages (from aiohttp->openai) (22.2.0)\n",
      "Requirement already satisfied: frozenlist>=1.1.1 in /home/leosmigel/Development/workspace/venv/lib/python3.10/site-packages (from aiohttp->openai) (1.3.3)\n",
      "Requirement already satisfied: yarl<2.0,>=1.0 in /home/leosmigel/Development/workspace/venv/lib/python3.10/site-packages (from aiohttp->openai) (1.8.2)\n"
     ]
    }
   ],
   "source": [
    "!pip install openai"
   ]
  },
  {
   "cell_type": "code",
   "execution_count": 18,
   "id": "b765ec79-f9b2-4b25-ac2b-892a58bb75e6",
   "metadata": {},
   "outputs": [],
   "source": [
    "import os\n",
    "import openai\n",
    "import pandas as pd\n",
    "\n",
    "api_key = os.getenv('OPENAI_API_KEY')\n",
    "openai.api_key = api_key"
   ]
  },
  {
   "cell_type": "markdown",
   "id": "3371e0cc-b393-49d6-a87b-7486592f7441",
   "metadata": {
    "tags": []
   },
   "source": [
    "#### ii. Summarize Text"
   ]
  },
  {
   "cell_type": "code",
   "execution_count": 20,
   "id": "be185c98-81e8-4609-a73b-7f4f3381a313",
   "metadata": {
    "tags": []
   },
   "outputs": [
    {
     "name": "stdout",
     "output_type": "stream",
     "text": [
      "\n",
      "\n",
      "On this call, Satin Adela (Chairman and CEO), Amy Hood (CFO), Alice Chala (Chief Accounting Officer), and Keith Tholiver (Deputy General Counsel) will discuss Microsoft's fourth quarter earnings. The Microsoft Investor Relations website has the earnings press release and financial summary slide deck, which provides a reconciliation of gap and non-gap financial measures. Unless otherwise specified, non-gap metrics will be used.\n"
     ]
    }
   ],
   "source": [
    "text = result['text'][:985]\n",
    "\n",
    "summary = openai.Completion.create(\n",
    "  model=\"text-davinci-003\",\n",
    "  prompt= text + \"\\n\\nTl;dr\",\n",
    "  max_tokens= 200,\n",
    "  temperature=0\n",
    ")\n",
    "\n",
    "print(summary['choices'][0]['text'])"
   ]
  },
  {
   "cell_type": "markdown",
   "id": "7b8ce4bb",
   "metadata": {
    "tags": [],
    "toc-hr-collapsed": true
   },
   "source": [
    "### d. Whisper Audio Sentiment Analysis Using GPT-3"
   ]
  },
  {
   "cell_type": "markdown",
   "id": "535b461d-6367-4282-bd9e-33c1e4975a81",
   "metadata": {
    "tags": []
   },
   "source": [
    "#### i. Sentiment analysis of default Whisper Speech Segments"
   ]
  },
  {
   "cell_type": "markdown",
   "id": "db97cac7-619b-4f14-9670-498bb64f675d",
   "metadata": {
    "tags": []
   },
   "source": [
    "##### 1. Format speech segments"
   ]
  },
  {
   "cell_type": "code",
   "execution_count": 21,
   "id": "675351ac-0b8d-4a08-8c05-982e15553205",
   "metadata": {
    "tags": []
   },
   "outputs": [
    {
     "data": {
      "text/html": [
       "<div>\n",
       "<style scoped>\n",
       "    .dataframe tbody tr th:only-of-type {\n",
       "        vertical-align: middle;\n",
       "    }\n",
       "\n",
       "    .dataframe tbody tr th {\n",
       "        vertical-align: top;\n",
       "    }\n",
       "\n",
       "    .dataframe thead th {\n",
       "        text-align: right;\n",
       "    }\n",
       "</style>\n",
       "<table border=\"1\" class=\"dataframe\">\n",
       "  <thead>\n",
       "    <tr style=\"text-align: right;\">\n",
       "      <th></th>\n",
       "      <th>text</th>\n",
       "    </tr>\n",
       "  </thead>\n",
       "  <tbody>\n",
       "    <tr>\n",
       "      <th>24</th>\n",
       "      <td>If you ask a question, it will be included in...</td>\n",
       "    </tr>\n",
       "    <tr>\n",
       "      <th>148</th>\n",
       "      <td>complexity. We are taking share across all ma...</td>\n",
       "    </tr>\n",
       "    <tr>\n",
       "      <th>182</th>\n",
       "      <td>relationships. Now on to gaming. We offer the...</td>\n",
       "    </tr>\n",
       "    <tr>\n",
       "      <th>170</th>\n",
       "      <td>consumption across start and categories like ...</td>\n",
       "    </tr>\n",
       "    <tr>\n",
       "      <th>371</th>\n",
       "      <td>we expect revenue growth in the mid to high t...</td>\n",
       "    </tr>\n",
       "  </tbody>\n",
       "</table>\n",
       "</div>"
      ],
      "text/plain": [
       "                                                  text\n",
       "24    If you ask a question, it will be included in...\n",
       "148   complexity. We are taking share across all ma...\n",
       "182   relationships. Now on to gaming. We offer the...\n",
       "170   consumption across start and categories like ...\n",
       "371   we expect revenue growth in the mid to high t..."
      ]
     },
     "execution_count": 21,
     "metadata": {},
     "output_type": "execute_result"
    }
   ],
   "source": [
    "# convert earnings call response to pandas dataframe\n",
    "earnings_callDF = pd.DataFrame.from_dict(result['segments']) \n",
    "\n",
    "# filter the text column and remove the remaining \n",
    "earnings_callDF = earnings_callDF[['text']] \n",
    "\n",
    "# randomly select 20 segments from the dataframe \n",
    "earnings_callDF = earnings_callDF.sample(n = 20) \n",
    "earnings_callDF.head()"
   ]
  },
  {
   "cell_type": "markdown",
   "id": "dddebd09-d504-4909-80e7-85b642c7427b",
   "metadata": {
    "tags": []
   },
   "source": [
    "##### 2. Create and text function to analyze sentiment"
   ]
  },
  {
   "cell_type": "code",
   "execution_count": 23,
   "id": "5104d835-9fc7-4049-ab79-e3dc38f57fa6",
   "metadata": {},
   "outputs": [
    {
     "name": "stdout",
     "output_type": "stream",
     "text": [
      "Positive\n",
      "Negative\n"
     ]
    }
   ],
   "source": [
    "text = \"This year has been financially very profitable for us.\"\n",
    "print(get_sentiment(text))\n",
    "\n",
    "text = \"We lost 20% of our worth in the last quarter .\"\n",
    "print(get_sentiment(text))"
   ]
  },
  {
   "cell_type": "markdown",
   "id": "a49545e5-6f60-4cf6-bdfd-e5f2aa471cf7",
   "metadata": {
    "tags": []
   },
   "source": [
    "##### 3. Apply sentiment function to speech sentiments"
   ]
  },
  {
   "cell_type": "code",
   "execution_count": 24,
   "id": "86332868-3a66-46d0-aad3-c16f39f0be2b",
   "metadata": {
    "tags": []
   },
   "outputs": [
    {
     "data": {
      "text/html": [
       "<div>\n",
       "<style scoped>\n",
       "    .dataframe tbody tr th:only-of-type {\n",
       "        vertical-align: middle;\n",
       "    }\n",
       "\n",
       "    .dataframe tbody tr th {\n",
       "        vertical-align: top;\n",
       "    }\n",
       "\n",
       "    .dataframe thead th {\n",
       "        text-align: right;\n",
       "    }\n",
       "</style>\n",
       "<table border=\"1\" class=\"dataframe\">\n",
       "  <thead>\n",
       "    <tr style=\"text-align: right;\">\n",
       "      <th></th>\n",
       "      <th>text</th>\n",
       "      <th>sentiment</th>\n",
       "    </tr>\n",
       "  </thead>\n",
       "  <tbody>\n",
       "    <tr>\n",
       "      <th>24</th>\n",
       "      <td>If you ask a question, it will be included in...</td>\n",
       "      <td>Neutral</td>\n",
       "    </tr>\n",
       "    <tr>\n",
       "      <th>148</th>\n",
       "      <td>complexity. We are taking share across all ma...</td>\n",
       "      <td>Neutral</td>\n",
       "    </tr>\n",
       "    <tr>\n",
       "      <th>182</th>\n",
       "      <td>relationships. Now on to gaming. We offer the...</td>\n",
       "      <td>Positive</td>\n",
       "    </tr>\n",
       "    <tr>\n",
       "      <th>170</th>\n",
       "      <td>consumption across start and categories like ...</td>\n",
       "      <td>Neutral</td>\n",
       "    </tr>\n",
       "    <tr>\n",
       "      <th>371</th>\n",
       "      <td>we expect revenue growth in the mid to high t...</td>\n",
       "      <td>Positive</td>\n",
       "    </tr>\n",
       "  </tbody>\n",
       "</table>\n",
       "</div>"
      ],
      "text/plain": [
       "                                                  text sentiment\n",
       "24    If you ask a question, it will be included in...   Neutral\n",
       "148   complexity. We are taking share across all ma...   Neutral\n",
       "182   relationships. Now on to gaming. We offer the...  Positive\n",
       "170   consumption across start and categories like ...   Neutral\n",
       "371   we expect revenue growth in the mid to high t...  Positive"
      ]
     },
     "execution_count": 24,
     "metadata": {},
     "output_type": "execute_result"
    }
   ],
   "source": [
    "# apply the get_sentiment() method on our earnings_calls dataframe\n",
    "\n",
    "earnings_callDF['sentiment'] = earnings_callDF['text'].apply(get_sentiment)\n",
    "earnings_callDF.head()"
   ]
  },
  {
   "cell_type": "markdown",
   "id": "18362559-b6f1-43ac-83d8-ea4b4331350b",
   "metadata": {},
   "source": [
    "##### 4. Analyze Sentiment"
   ]
  },
  {
   "cell_type": "code",
   "execution_count": 25,
   "id": "4ebaacb6-0ea9-4cc9-bf87-e65cb906ffb9",
   "metadata": {},
   "outputs": [
    {
     "name": "stdout",
     "output_type": "stream",
     "text": [
      "text -   connect and play. Despite a changing market for PCs during the quarter, we continue to see more\n",
      "sentiment -  Neutral\n"
     ]
    }
   ],
   "source": [
    "print(\"text - \",earnings_callDF['text'].iloc[12])\n",
    "print(\"sentiment - \",earnings_callDF['sentiment'].iloc[12])"
   ]
  },
  {
   "cell_type": "markdown",
   "id": "cd8ec249-3bb3-4083-9fdb-a063cd1e74b2",
   "metadata": {},
   "source": [
    "##### 5. Plot Sentiment"
   ]
  },
  {
   "cell_type": "code",
   "execution_count": 26,
   "id": "8d489c1d-c6cc-42f6-b9df-2f3b15e7e95b",
   "metadata": {
    "tags": []
   },
   "outputs": [
    {
     "name": "stdout",
     "output_type": "stream",
     "text": [
      "Requirement already satisfied: seaborn in /home/leosmigel/Development/workspace/venv/lib/python3.10/site-packages (0.12.2)\n",
      "Requirement already satisfied: matplotlib!=3.6.1,>=3.1 in /home/leosmigel/Development/workspace/venv/lib/python3.10/site-packages (from seaborn) (3.7.0)\n",
      "Requirement already satisfied: numpy!=1.24.0,>=1.17 in /home/leosmigel/Development/workspace/venv/lib/python3.10/site-packages (from seaborn) (1.24.2)\n",
      "Requirement already satisfied: pandas>=0.25 in /home/leosmigel/Development/workspace/venv/lib/python3.10/site-packages (from seaborn) (1.5.3)\n",
      "Requirement already satisfied: packaging>=20.0 in /home/leosmigel/Development/workspace/venv/lib/python3.10/site-packages (from matplotlib!=3.6.1,>=3.1->seaborn) (23.0)\n",
      "Requirement already satisfied: pyparsing>=2.3.1 in /home/leosmigel/Development/workspace/venv/lib/python3.10/site-packages (from matplotlib!=3.6.1,>=3.1->seaborn) (3.0.9)\n",
      "Requirement already satisfied: fonttools>=4.22.0 in /home/leosmigel/Development/workspace/venv/lib/python3.10/site-packages (from matplotlib!=3.6.1,>=3.1->seaborn) (4.38.0)\n",
      "Requirement already satisfied: kiwisolver>=1.0.1 in /home/leosmigel/Development/workspace/venv/lib/python3.10/site-packages (from matplotlib!=3.6.1,>=3.1->seaborn) (1.4.4)\n",
      "Requirement already satisfied: python-dateutil>=2.7 in /home/leosmigel/Development/workspace/venv/lib/python3.10/site-packages (from matplotlib!=3.6.1,>=3.1->seaborn) (2.8.2)\n",
      "Requirement already satisfied: contourpy>=1.0.1 in /home/leosmigel/Development/workspace/venv/lib/python3.10/site-packages (from matplotlib!=3.6.1,>=3.1->seaborn) (1.0.7)\n",
      "Requirement already satisfied: cycler>=0.10 in /home/leosmigel/Development/workspace/venv/lib/python3.10/site-packages (from matplotlib!=3.6.1,>=3.1->seaborn) (0.11.0)\n",
      "Requirement already satisfied: pillow>=6.2.0 in /home/leosmigel/Development/workspace/venv/lib/python3.10/site-packages (from matplotlib!=3.6.1,>=3.1->seaborn) (9.4.0)\n",
      "Requirement already satisfied: pytz>=2020.1 in /home/leosmigel/Development/workspace/venv/lib/python3.10/site-packages (from pandas>=0.25->seaborn) (2022.7.1)\n",
      "Requirement already satisfied: six>=1.5 in /home/leosmigel/Development/workspace/venv/lib/python3.10/site-packages (from python-dateutil>=2.7->matplotlib!=3.6.1,>=3.1->seaborn) (1.16.0)\n"
     ]
    }
   ],
   "source": [
    "!pip install seaborn"
   ]
  },
  {
   "cell_type": "code",
   "execution_count": 33,
   "id": "7d9a9fd2-ed39-4a65-aa42-ffe2d70f2183",
   "metadata": {
    "tags": []
   },
   "outputs": [
    {
     "name": "stdout",
     "output_type": "stream",
     "text": [
      "Neutral     17\n",
      "Positive     2\n",
      "Negative     1\n",
      "Name: sentiment, dtype: int64\n"
     ]
    },
    {
     "data": {
      "text/plain": [
       "<Axes: xlabel='sentiment', ylabel='count'>"
      ]
     },
     "execution_count": 33,
     "metadata": {},
     "output_type": "execute_result"
    },
    {
     "data": {
      "image/png": "[encoded data removed]",
      "text/plain": [
       "<Figure size 1000x700 with 1 Axes>"
      ]
     },
     "metadata": {},
     "output_type": "display_data"
    }
   ],
   "source": [
    "import seaborn as sns\n",
    "sns.set_style(\"darkgrid\")\n",
    "sns.set(rc={'figure.figsize':(10,7)})\n",
    "sns.set_context(\"poster\")\n",
    "\n",
    "print(earnings_callDF['sentiment'].value_counts())\n",
    "sns.countplot(x='sentiment', data = earnings_callDF)"
   ]
  },
  {
   "cell_type": "code",
   "execution_count": 39,
   "id": "38aaa406-924d-47af-9d8e-1aa6cc28a792",
   "metadata": {
    "tags": []
   },
   "outputs": [
    {
     "name": "stdout",
     "output_type": "stream",
     "text": [
      "text -   connect and play. Despite a changing market for PCs during the quarter, we continue to see more\n",
      "sentiment -  Neutral\n"
     ]
    }
   ],
   "source": [
    "print(\"text - \",earnings_callDF['text'].iloc[12])\n",
    "print(\"sentiment - \",earnings_callDF['sentiment'].iloc[12])"
   ]
  },
  {
   "cell_type": "code",
   "execution_count": 37,
   "id": "04b0f04b-513d-4c1a-ad61-24b4610faf9b",
   "metadata": {
    "tags": []
   },
   "outputs": [
    {
     "name": "stdout",
     "output_type": "stream",
     "text": [
      "1 -   customer service operations and Visa switched to Dynamics 365 for both its sales and call center\n",
      "2 -   organizations. When it comes to our industry and cross-industry clouds, we are seeing strong\n",
      "3 -   adoption as we take a platform-driven approach to help organizations deliver on their digital\n",
      "4 -   imperative. For example, Microsoft Cloud for Healthcare, inclusive of nuances becoming the platform\n",
      "5 -   of choice for companies across the healthcare value chain looking to drive meaningful clinical\n",
      "6 -   and financial outcomes. Whether it's a provider modernizing care delivery or health plan\n",
      "7 -   transforming the member experience or a retailer expanding into health services, having a technology\n",
      "8 -   partner that is truly dedicated to empowering their success is a significant differentiator for us.\n",
      "9 -   Intermountain healthcare, for example, chose the Cloud for Healthcare as well as nuances\n",
      "10 -   DAX ambient intelligence solution as the pillar of its new digital strategy.\n"
     ]
    }
   ],
   "source": [
    "for i, seg in enumerate(result['segments'][100:110]):\n",
    "  print(i+1, \"- \", seg['text'])"
   ]
  },
  {
   "cell_type": "markdown",
   "id": "92423967-ff3e-46af-8198-6a383cbdda9e",
   "metadata": {
    "tags": []
   },
   "source": [
    "#### ii. Sentiment Analysis manually created Whisper Speech Sentiments"
   ]
  },
  {
   "cell_type": "markdown",
   "id": "d177d55e-142e-4dfa-b4a5-32135b11696e",
   "metadata": {},
   "source": [
    "##### 1. Segment using a delimeter"
   ]
  },
  {
   "cell_type": "code",
   "execution_count": 34,
   "id": "2faa0705-f6b1-4659-b700-29072015cb64",
   "metadata": {},
   "outputs": [
    {
     "name": "stdout",
     "output_type": "stream",
     "text": [
      "312\n"
     ]
    }
   ],
   "source": [
    "segments  = result['text'].split(\".\") # use period as a segment delimeter\n",
    "segments = [segment + \".\" for segment in segments]\n",
    "print(len(segments))"
   ]
  },
  {
   "cell_type": "markdown",
   "id": "3a5d6f5e-9756-4721-991a-e84cfa57842a",
   "metadata": {
    "tags": []
   },
   "source": [
    "##### 2. Analyze Segments"
   ]
  },
  {
   "cell_type": "code",
   "execution_count": 42,
   "id": "a1c7caab-524f-4c79-85cb-83d141a27977",
   "metadata": {},
   "outputs": [
    {
     "data": {
      "text/plain": [
       "[' Good afternoon and thank you for joining us today.',\n",
       " ' On the call with me are Satin Adela, Chairman and Chief Executive Officer, Amy Hood, Chief Financial Officer, Alice Chala, Chief Accounting Officer, and Keith Tholiver, Deputy General Counsel.',\n",
       " \" On the Microsoft Invest Relations website, you can find our earnings press release and financial summary slide deck, which is intended to supplement our prepared remarks during today's call, and provides the reconciliation of differences between gap and non-gap financial measures.\",\n",
       " ' Unless otherwise specified, we will refer to non-gap metrics on the call.',\n",
       " ' The non-gap financial measures provided should not be considered as a sub-seat four, or superior to the measures of financial performance prepared in accordance with gap.']"
      ]
     },
     "execution_count": 42,
     "metadata": {},
     "output_type": "execute_result"
    }
   ],
   "source": [
    "segments[:5]"
   ]
  },
  {
   "cell_type": "markdown",
   "id": "859bed77-21e9-4a15-8076-d3e995ceffde",
   "metadata": {},
   "source": [
    "##### 3. Add segments to DataFrame"
   ]
  },
  {
   "cell_type": "code",
   "execution_count": 43,
   "id": "1c0e776f-36de-4b55-ac32-6b456a4d3824",
   "metadata": {
    "tags": []
   },
   "outputs": [
    {
     "data": {
      "text/html": [
       "<div>\n",
       "<style scoped>\n",
       "    .dataframe tbody tr th:only-of-type {\n",
       "        vertical-align: middle;\n",
       "    }\n",
       "\n",
       "    .dataframe tbody tr th {\n",
       "        vertical-align: top;\n",
       "    }\n",
       "\n",
       "    .dataframe thead th {\n",
       "        text-align: right;\n",
       "    }\n",
       "</style>\n",
       "<table border=\"1\" class=\"dataframe\">\n",
       "  <thead>\n",
       "    <tr style=\"text-align: right;\">\n",
       "      <th></th>\n",
       "      <th>text</th>\n",
       "    </tr>\n",
       "  </thead>\n",
       "  <tbody>\n",
       "    <tr>\n",
       "      <th>0</th>\n",
       "      <td>Good afternoon and thank you for joining us t...</td>\n",
       "    </tr>\n",
       "    <tr>\n",
       "      <th>1</th>\n",
       "      <td>On the call with me are Satin Adela, Chairman...</td>\n",
       "    </tr>\n",
       "    <tr>\n",
       "      <th>2</th>\n",
       "      <td>On the Microsoft Invest Relations website, yo...</td>\n",
       "    </tr>\n",
       "    <tr>\n",
       "      <th>3</th>\n",
       "      <td>Unless otherwise specified, we will refer to ...</td>\n",
       "    </tr>\n",
       "    <tr>\n",
       "      <th>4</th>\n",
       "      <td>The non-gap financial measures provided shoul...</td>\n",
       "    </tr>\n",
       "  </tbody>\n",
       "</table>\n",
       "</div>"
      ],
      "text/plain": [
       "                                                text\n",
       "0   Good afternoon and thank you for joining us t...\n",
       "1   On the call with me are Satin Adela, Chairman...\n",
       "2   On the Microsoft Invest Relations website, yo...\n",
       "3   Unless otherwise specified, we will refer to ...\n",
       "4   The non-gap financial measures provided shoul..."
      ]
     },
     "execution_count": 43,
     "metadata": {},
     "output_type": "execute_result"
    }
   ],
   "source": [
    "earnings_callDF_custom = pd.DataFrame(segments, columns=['text'])\n",
    "earnings_callDF_custom.head()"
   ]
  },
  {
   "cell_type": "markdown",
   "id": "2987384e-3a33-4329-8756-d4e4e54a5112",
   "metadata": {},
   "source": [
    "##### 4. Sample 20 segements from datafram"
   ]
  },
  {
   "cell_type": "code",
   "execution_count": 44,
   "id": "9c4ec373-a31c-42aa-99b1-fc9907e76259",
   "metadata": {
    "tags": []
   },
   "outputs": [
    {
     "data": {
      "text/html": [
       "<div>\n",
       "<style scoped>\n",
       "    .dataframe tbody tr th:only-of-type {\n",
       "        vertical-align: middle;\n",
       "    }\n",
       "\n",
       "    .dataframe tbody tr th {\n",
       "        vertical-align: top;\n",
       "    }\n",
       "\n",
       "    .dataframe thead th {\n",
       "        text-align: right;\n",
       "    }\n",
       "</style>\n",
       "<table border=\"1\" class=\"dataframe\">\n",
       "  <thead>\n",
       "    <tr style=\"text-align: right;\">\n",
       "      <th></th>\n",
       "      <th>text</th>\n",
       "      <th>sentiment</th>\n",
       "    </tr>\n",
       "  </thead>\n",
       "  <tbody>\n",
       "    <tr>\n",
       "      <th>246</th>\n",
       "      <td>At every level of the company, we manage perf...</td>\n",
       "      <td>Neutral</td>\n",
       "    </tr>\n",
       "    <tr>\n",
       "      <th>24</th>\n",
       "      <td>Lastly, we will manage through this period wi...</td>\n",
       "      <td>Neutral</td>\n",
       "    </tr>\n",
       "    <tr>\n",
       "      <th>204</th>\n",
       "      <td>FX decreased segment revenue, 127 billion dol...</td>\n",
       "      <td>Negative</td>\n",
       "    </tr>\n",
       "    <tr>\n",
       "      <th>35</th>\n",
       "      <td>Just last week, we announced a new service to...</td>\n",
       "      <td>Positive</td>\n",
       "    </tr>\n",
       "    <tr>\n",
       "      <th>109</th>\n",
       "      <td>LinkedIn Talent Solutions surpassed $6 billio...</td>\n",
       "      <td>Positive</td>\n",
       "    </tr>\n",
       "  </tbody>\n",
       "</table>\n",
       "</div>"
      ],
      "text/plain": [
       "                                                  text sentiment\n",
       "246   At every level of the company, we manage perf...   Neutral\n",
       "24    Lastly, we will manage through this period wi...   Neutral\n",
       "204   FX decreased segment revenue, 127 billion dol...  Negative\n",
       "35    Just last week, we announced a new service to...  Positive\n",
       "109   LinkedIn Talent Solutions surpassed $6 billio...  Positive"
      ]
     },
     "execution_count": 44,
     "metadata": {},
     "output_type": "execute_result"
    }
   ],
   "source": [
    "# randomly select 20 segments from the dataframe \n",
    "earnings_callDF_custom = earnings_callDF_custom.sample(n = 20) \n",
    "earnings_callDF_custom['sentiment'] = earnings_callDF_custom['text'].apply(get_sentiment)\n",
    "earnings_callDF_custom.head()"
   ]
  },
  {
   "cell_type": "markdown",
   "id": "736aef84-9972-470c-acf5-7eb2785cef62",
   "metadata": {
    "tags": []
   },
   "source": [
    "##### 5. Analyze & Plot Sentiment"
   ]
  },
  {
   "cell_type": "code",
   "execution_count": 45,
   "id": "95aa5d7f-fa21-4e84-8acc-8481ebceddc4",
   "metadata": {
    "tags": []
   },
   "outputs": [
    {
     "name": "stdout",
     "output_type": "stream",
     "text": [
      "Neutral     12\n",
      "Positive     6\n",
      "Negative     2\n",
      "Name: sentiment, dtype: int64\n"
     ]
    },
    {
     "data": {
      "text/plain": [
       "<Axes: xlabel='sentiment', ylabel='count'>"
      ]
     },
     "execution_count": 45,
     "metadata": {},
     "output_type": "execute_result"
    },
    {
     "data": {
      "image/png": "[encoded data removed]",
      "text/plain": [
       "<Figure size 1000x700 with 1 Axes>"
      ]
     },
     "metadata": {},
     "output_type": "display_data"
    }
   ],
   "source": [
    "print(earnings_callDF_custom['sentiment'].value_counts())\n",
    "sns.countplot(x='sentiment', data = earnings_callDF_custom)"
   ]
  }
 ],
 "metadata": {
  "kernelspec": {
   "display_name": "Python 3 (ipykernel)",
   "language": "python",
   "name": "python3"
  },
  "language_info": {
   "codemirror_mode": {
    "name": "ipython",
    "version": 3
   },
   "file_extension": ".py",
   "mimetype": "text/x-python",
   "name": "python",
   "nbconvert_exporter": "python",
   "pygments_lexer": "ipython3",
   "version": "3.10.6"
  }
 },
 "nbformat": 4,
 "nbformat_minor": 5
}
