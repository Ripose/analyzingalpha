{
 "cells": [
  {
   "cell_type": "markdown",
   "id": "4b2235a0",
   "metadata": {},
   "source": [
    "## Using Environment Variables in Jupyter Notebook\n",
    "Check out the tutorial on https://analyzingalpha.com/jupyter-notebook-environment-variables"
   ]
  },
  {
   "cell_type": "markdown",
   "id": "8e59a386",
   "metadata": {},
   "source": [
    "## List Variables"
   ]
  },
  {
   "cell_type": "code",
   "execution_count": 9,
   "id": "7caacbbf",
   "metadata": {},
   "outputs": [
    {
     "data": {
      "text/plain": [
       "{'SHELL': '/bin/bash',\n",
       " 'SESSION_MANAGER': 'local/alphaspark:@/tmp/.ICE-unix/8695,unix/alphaspark:/tmp/.ICE-unix/8695',\n",
       " 'QT_ACCESSIBILITY': '1',\n",
       " 'COLORTERM': 'truecolor',\n",
       " 'XDG_CONFIG_DIRS': '/etc/xdg/xdg-ubuntu:/etc/xdg',\n",
       " 'SSH_AGENT_LAUNCHER': 'gnome-keyring',\n",
       " 'XDG_MENU_PREFIX': 'gnome-',\n",
       " 'GNOME_DESKTOP_SESSION_ID': 'this-is-deprecated',\n",
       " 'GNOME_SHELL_SESSION_MODE': 'ubuntu',\n",
       " 'SSH_AUTH_SOCK': '/run/user/1026/keyring/ssh',\n",
       " 'XMODIFIERS': '@im=ibus',\n",
       " 'DESKTOP_SESSION': 'ubuntu',\n",
       " 'GTK_MODULES': 'gail:atk-bridge',\n",
       " 'PWD': '/home/leosmigel/Development/alphaapps/sites/analyzingalpha.com/notebooks/jupyter-notebook-environment-variables',\n",
       " 'LOGNAME': 'leosmigel',\n",
       " 'XDG_SESSION_DESKTOP': 'ubuntu',\n",
       " 'XDG_SESSION_TYPE': 'x11',\n",
       " 'GPG_AGENT_INFO': '/run/user/1026/gnupg/S.gpg-agent:0:1',\n",
       " 'SYSTEMD_EXEC_PID': '8717',\n",
       " 'XAUTHORITY': '/run/user/1026/gdm/Xauthority',\n",
       " 'WINDOWPATH': '2',\n",
       " 'HOME': '/home/leosmigel',\n",
       " 'USERNAME': 'leosmigel',\n",
       " 'LANG': 'en_US.UTF-8',\n",
       " 'LS_COLORS': 'rs=0:di=01;34:ln=01;36:mh=00:pi=40;33:so=01;35:do=01;35:bd=40;33;01:cd=40;33;01:or=40;31;01:mi=00:su=37;41:sg=30;43:ca=30;41:tw=30;42:ow=34;42:st=37;44:ex=01;32:*.tar=01;31:*.tgz=01;31:*.arc=01;31:*.arj=01;31:*.taz=01;31:*.lha=01;31:*.lz4=01;31:*.lzh=01;31:*.lzma=01;31:*.tlz=01;31:*.txz=01;31:*.tzo=01;31:*.t7z=01;31:*.zip=01;31:*.z=01;31:*.dz=01;31:*.gz=01;31:*.lrz=01;31:*.lz=01;31:*.lzo=01;31:*.xz=01;31:*.zst=01;31:*.tzst=01;31:*.bz2=01;31:*.bz=01;31:*.tbz=01;31:*.tbz2=01;31:*.tz=01;31:*.deb=01;31:*.rpm=01;31:*.jar=01;31:*.war=01;31:*.ear=01;31:*.sar=01;31:*.rar=01;31:*.alz=01;31:*.ace=01;31:*.zoo=01;31:*.cpio=01;31:*.7z=01;31:*.rz=01;31:*.cab=01;31:*.wim=01;31:*.swm=01;31:*.dwm=01;31:*.esd=01;31:*.jpg=01;35:*.jpeg=01;35:*.mjpg=01;35:*.mjpeg=01;35:*.gif=01;35:*.bmp=01;35:*.pbm=01;35:*.pgm=01;35:*.ppm=01;35:*.tga=01;35:*.xbm=01;35:*.xpm=01;35:*.tif=01;35:*.tiff=01;35:*.png=01;35:*.svg=01;35:*.svgz=01;35:*.mng=01;35:*.pcx=01;35:*.mov=01;35:*.mpg=01;35:*.mpeg=01;35:*.m2v=01;35:*.mkv=01;35:*.webm=01;35:*.webp=01;35:*.ogm=01;35:*.mp4=01;35:*.m4v=01;35:*.mp4v=01;35:*.vob=01;35:*.qt=01;35:*.nuv=01;35:*.wmv=01;35:*.asf=01;35:*.rm=01;35:*.rmvb=01;35:*.flc=01;35:*.avi=01;35:*.fli=01;35:*.flv=01;35:*.gl=01;35:*.dl=01;35:*.xcf=01;35:*.xwd=01;35:*.yuv=01;35:*.cgm=01;35:*.emf=01;35:*.ogv=01;35:*.ogx=01;35:*.aac=00;36:*.au=00;36:*.flac=00;36:*.m4a=00;36:*.mid=00;36:*.midi=00;36:*.mka=00;36:*.mp3=00;36:*.mpc=00;36:*.ogg=00;36:*.ra=00;36:*.wav=00;36:*.oga=00;36:*.opus=00;36:*.spx=00;36:*.xspf=00;36:',\n",
       " 'XDG_CURRENT_DESKTOP': 'ubuntu:GNOME',\n",
       " 'VIRTUAL_ENV': '/home/leosmigel/Development/alphaapps/venv',\n",
       " 'VTE_VERSION': '6800',\n",
       " 'GNOME_TERMINAL_SCREEN': '/org/gnome/Terminal/screen/e7f530e7_1e55_47a1_9c5b_270b9fb940f0',\n",
       " 'LESSCLOSE': '/usr/bin/lesspipe %s %s',\n",
       " 'XDG_SESSION_CLASS': 'user',\n",
       " 'TERM': 'xterm-color',\n",
       " 'LESSOPEN': '| /usr/bin/lesspipe %s',\n",
       " 'USER': 'leosmigel',\n",
       " 'GNOME_TERMINAL_SERVICE': ':1.103',\n",
       " 'DISPLAY': ':1',\n",
       " 'SHLVL': '1',\n",
       " 'QT_IM_MODULE': 'ibus',\n",
       " 'VIRTUAL_ENV_PROMPT': '(venv) ',\n",
       " 'XDG_RUNTIME_DIR': '/run/user/1026',\n",
       " 'PS1': '(venv) \\\\[\\\\e]0;\\\\u@\\\\h: \\\\w\\\\a\\\\]${debian_chroot:+($debian_chroot)}\\\\[\\\\033[01;32m\\\\]\\\\u@\\\\h\\\\[\\\\033[00m\\\\]:\\\\[\\\\033[01;34m\\\\]\\\\w\\\\[\\\\033[00m\\\\]\\\\$ ',\n",
       " 'XDG_DATA_DIRS': '/usr/share/ubuntu:/usr/share/gnome:/usr/local/share/:/usr/share/:/var/lib/snapd/desktop',\n",
       " 'PATH': '/home/leosmigel/Development/alphaapps/venv/bin:/home/leosmigel/.cargo/bin:/usr/local/sbin:/usr/local/bin:/usr/sbin:/usr/bin:/sbin:/bin:/usr/games:/usr/local/games:/snap/bin:/snap/bin',\n",
       " 'GDMSESSION': 'ubuntu',\n",
       " 'DBUS_SESSION_BUS_ADDRESS': 'unix:path=/run/user/1026/bus',\n",
       " 'OLDPWD': '/home/leosmigel/Development/alphaapps',\n",
       " '_': '/home/leosmigel/Development/alphaapps/venv/bin/jupyter',\n",
       " 'JPY_PARENT_PID': '16574',\n",
       " 'CLICOLOR': '1',\n",
       " 'PAGER': 'cat',\n",
       " 'GIT_PAGER': 'cat',\n",
       " 'MPLBACKEND': 'module://matplotlib_inline.backend_inline',\n",
       " 'MY_VAR': 'my_value',\n",
       " 'MY_MAGIC_VAR': 'magic_var',\n",
       " 'MY_OTHER_MAGIC_VAR': 'my_other_magic_var'}"
      ]
     },
     "execution_count": 9,
     "metadata": {},
     "output_type": "execute_result"
    }
   ],
   "source": [
    "%env"
   ]
  },
  {
   "cell_type": "code",
   "execution_count": 10,
   "id": "5f8ca30f",
   "metadata": {},
   "outputs": [
    {
     "name": "stdout",
     "output_type": "stream",
     "text": [
      "SHELL=/bin/bash\r\n",
      "SESSION_MANAGER=local/alphaspark:@/tmp/.ICE-unix/8695,unix/alphaspark:/tmp/.ICE-unix/8695\r\n",
      "QT_ACCESSIBILITY=1\r\n",
      "COLORTERM=truecolor\r\n",
      "XDG_CONFIG_DIRS=/etc/xdg/xdg-ubuntu:/etc/xdg\r\n",
      "SSH_AGENT_LAUNCHER=gnome-keyring\r\n",
      "XDG_MENU_PREFIX=gnome-\r\n",
      "GNOME_DESKTOP_SESSION_ID=this-is-deprecated\r\n",
      "GNOME_SHELL_SESSION_MODE=ubuntu\r\n",
      "SSH_AUTH_SOCK=/run/user/1026/keyring/ssh\r\n",
      "XMODIFIERS=@im=ibus\r\n",
      "DESKTOP_SESSION=ubuntu\r\n",
      "GTK_MODULES=gail:atk-bridge\r\n",
      "MY_OTHER_MAGIC_VAR=my_other_magic_var\r\n",
      "PWD=/home/leosmigel/Development/alphaapps/sites/analyzingalpha.com/notebooks/jupyter-notebook-environment-variables\r\n",
      "XDG_SESSION_DESKTOP=ubuntu\r\n",
      "LOGNAME=leosmigel\r\n",
      "XDG_SESSION_TYPE=x11\r\n",
      "GPG_AGENT_INFO=/run/user/1026/gnupg/S.gpg-agent:0:1\r\n",
      "SYSTEMD_EXEC_PID=8717\r\n",
      "_=/usr/bin/printenv\r\n",
      "XAUTHORITY=/run/user/1026/gdm/Xauthority\r\n",
      "WINDOWPATH=2\r\n",
      "HOME=/home/leosmigel\r\n",
      "USERNAME=leosmigel\r\n",
      "LANG=en_US.UTF-8\r\n",
      "MY_VAR=my_value\r\n",
      "LS_COLORS=rs=0:di=01;34:ln=01;36:mh=00:pi=40;33:so=01;35:do=01;35:bd=40;33;01:cd=40;33;01:or=40;31;01:mi=00:su=37;41:sg=30;43:ca=30;41:tw=30;42:ow=34;42:st=37;44:ex=01;32:*.tar=01;31:*.tgz=01;31:*.arc=01;31:*.arj=01;31:*.taz=01;31:*.lha=01;31:*.lz4=01;31:*.lzh=01;31:*.lzma=01;31:*.tlz=01;31:*.txz=01;31:*.tzo=01;31:*.t7z=01;31:*.zip=01;31:*.z=01;31:*.dz=01;31:*.gz=01;31:*.lrz=01;31:*.lz=01;31:*.lzo=01;31:*.xz=01;31:*.zst=01;31:*.tzst=01;31:*.bz2=01;31:*.bz=01;31:*.tbz=01;31:*.tbz2=01;31:*.tz=01;31:*.deb=01;31:*.rpm=01;31:*.jar=01;31:*.war=01;31:*.ear=01;31:*.sar=01;31:*.rar=01;31:*.alz=01;31:*.ace=01;31:*.zoo=01;31:*.cpio=01;31:*.7z=01;31:*.rz=01;31:*.cab=01;31:*.wim=01;31:*.swm=01;31:*.dwm=01;31:*.esd=01;31:*.jpg=01;35:*.jpeg=01;35:*.mjpg=01;35:*.mjpeg=01;35:*.gif=01;35:*.bmp=01;35:*.pbm=01;35:*.pgm=01;35:*.ppm=01;35:*.tga=01;35:*.xbm=01;35:*.xpm=01;35:*.tif=01;35:*.tiff=01;35:*.png=01;35:*.svg=01;35:*.svgz=01;35:*.mng=01;35:*.pcx=01;35:*.mov=01;35:*.mpg=01;35:*.mpeg=01;35:*.m2v=01;35:*.mkv=01;35:*.webm=01;35:*.webp=01;35:*.ogm=01;35:*.mp4=01;35:*.m4v=01;35:*.mp4v=01;35:*.vob=01;35:*.qt=01;35:*.nuv=01;35:*.wmv=01;35:*.asf=01;35:*.rm=01;35:*.rmvb=01;35:*.flc=01;35:*.avi=01;35:*.fli=01;35:*.flv=01;35:*.gl=01;35:*.dl=01;35:*.xcf=01;35:*.xwd=01;35:*.yuv=01;35:*.cgm=01;35:*.emf=01;35:*.ogv=01;35:*.ogx=01;35:*.aac=00;36:*.au=00;36:*.flac=00;36:*.m4a=00;36:*.mid=00;36:*.midi=00;36:*.mka=00;36:*.mp3=00;36:*.mpc=00;36:*.ogg=00;36:*.ra=00;36:*.wav=00;36:*.oga=00;36:*.opus=00;36:*.spx=00;36:*.xspf=00;36:\r\n",
      "XDG_CURRENT_DESKTOP=ubuntu:GNOME\r\n",
      "VIRTUAL_ENV=/home/leosmigel/Development/alphaapps/venv\r\n",
      "VTE_VERSION=6800\r\n",
      "GNOME_TERMINAL_SCREEN=/org/gnome/Terminal/screen/e7f530e7_1e55_47a1_9c5b_270b9fb940f0\r\n",
      "CLICOLOR=1\r\n",
      "JPY_PARENT_PID=16574\r\n",
      "LESSCLOSE=/usr/bin/lesspipe %s %s\r\n",
      "XDG_SESSION_CLASS=user\r\n",
      "TERM=xterm-color\r\n",
      "LESSOPEN=| /usr/bin/lesspipe %s\r\n",
      "USER=leosmigel\r\n",
      "GIT_PAGER=cat\r\n",
      "GNOME_TERMINAL_SERVICE=:1.103\r\n",
      "DISPLAY=:1\r\n",
      "SHLVL=1\r\n",
      "PAGER=cat\r\n",
      "QT_IM_MODULE=ibus\r\n",
      "MY_MAGIC_VAR=magic_var\r\n",
      "VIRTUAL_ENV_PROMPT=(venv) \r\n",
      "MPLBACKEND=module://matplotlib_inline.backend_inline\r\n",
      "XDG_RUNTIME_DIR=/run/user/1026\r\n",
      "XDG_DATA_DIRS=/usr/share/ubuntu:/usr/share/gnome:/usr/local/share/:/usr/share/:/var/lib/snapd/desktop\r\n",
      "PATH=/home/leosmigel/Development/alphaapps/venv/bin:/home/leosmigel/.cargo/bin:/usr/local/sbin:/usr/local/bin:/usr/sbin:/usr/bin:/sbin:/bin:/usr/games:/usr/local/games:/snap/bin:/snap/bin\r\n",
      "GDMSESSION=ubuntu\r\n",
      "DBUS_SESSION_BUS_ADDRESS=unix:path=/run/user/1026/bus\r\n",
      "OLDPWD=/home/leosmigel/Development/alphaapps\r\n"
     ]
    }
   ],
   "source": [
    "!printenv"
   ]
  },
  {
   "cell_type": "markdown",
   "id": "009b000a",
   "metadata": {},
   "source": [
    "## Setting and Getting Environment Varibles"
   ]
  },
  {
   "cell_type": "markdown",
   "id": "17c17fc4",
   "metadata": {},
   "source": [
    "### Using OS"
   ]
  },
  {
   "cell_type": "code",
   "execution_count": 1,
   "id": "b127255b",
   "metadata": {},
   "outputs": [],
   "source": [
    "import os\n",
    "os.environ['MY_VAR'] = 'my_value'"
   ]
  },
  {
   "cell_type": "code",
   "execution_count": 2,
   "id": "298c45a8",
   "metadata": {},
   "outputs": [
    {
     "data": {
      "text/plain": [
       "'my_value'"
      ]
     },
     "execution_count": 2,
     "metadata": {},
     "output_type": "execute_result"
    }
   ],
   "source": [
    "my_var = os.getenv('MY_VAR')\n",
    "my_var"
   ]
  },
  {
   "cell_type": "code",
   "execution_count": 12,
   "id": "3c2b48aa",
   "metadata": {},
   "outputs": [
    {
     "name": "stdout",
     "output_type": "stream",
     "text": [
      "MY_VAR=my_value\r\n"
     ]
    }
   ],
   "source": [
    "!printenv | grep value"
   ]
  },
  {
   "cell_type": "code",
   "execution_count": 13,
   "id": "5f23c100",
   "metadata": {},
   "outputs": [
    {
     "name": "stdout",
     "output_type": "stream",
     "text": [
      "Requirement already satisfied: python-dotenv in /home/leosmigel/Development/alphaapps/venv/lib/python3.10/site-packages (0.21.0)\r\n"
     ]
    }
   ],
   "source": [
    "!pip install python-dotenv"
   ]
  },
  {
   "cell_type": "markdown",
   "id": "b8fc57cc",
   "metadata": {},
   "source": [
    "### Using Magic Commands"
   ]
  },
  {
   "cell_type": "code",
   "execution_count": 20,
   "id": "02282766",
   "metadata": {},
   "outputs": [
    {
     "name": "stdout",
     "output_type": "stream",
     "text": [
      "env: MY_MAGIC_VAR=my_value\n",
      "env: MY_OTHER_MAGIC_VAR=my_other_value\n"
     ]
    },
    {
     "data": {
      "text/plain": [
       "{'SHELL': '/bin/bash',\n",
       " 'SESSION_MANAGER': 'local/alphaspark:@/tmp/.ICE-unix/8695,unix/alphaspark:/tmp/.ICE-unix/8695',\n",
       " 'QT_ACCESSIBILITY': '1',\n",
       " 'COLORTERM': 'truecolor',\n",
       " 'XDG_CONFIG_DIRS': '/etc/xdg/xdg-ubuntu:/etc/xdg',\n",
       " 'SSH_AGENT_LAUNCHER': 'gnome-keyring',\n",
       " 'XDG_MENU_PREFIX': 'gnome-',\n",
       " 'GNOME_DESKTOP_SESSION_ID': 'this-is-deprecated',\n",
       " 'GNOME_SHELL_SESSION_MODE': 'ubuntu',\n",
       " 'SSH_AUTH_SOCK': '/run/user/1026/keyring/ssh',\n",
       " 'XMODIFIERS': '@im=ibus',\n",
       " 'DESKTOP_SESSION': 'ubuntu',\n",
       " 'GTK_MODULES': 'gail:atk-bridge',\n",
       " 'PWD': '/home/leosmigel/Development/alphaapps/sites/analyzingalpha.com/notebooks/jupyter-notebook-environment-variables',\n",
       " 'LOGNAME': 'leosmigel',\n",
       " 'XDG_SESSION_DESKTOP': 'ubuntu',\n",
       " 'XDG_SESSION_TYPE': 'x11',\n",
       " 'GPG_AGENT_INFO': '/run/user/1026/gnupg/S.gpg-agent:0:1',\n",
       " 'SYSTEMD_EXEC_PID': '8717',\n",
       " 'XAUTHORITY': '/run/user/1026/gdm/Xauthority',\n",
       " 'WINDOWPATH': '2',\n",
       " 'HOME': '/home/leosmigel',\n",
       " 'USERNAME': 'leosmigel',\n",
       " 'LANG': 'en_US.UTF-8',\n",
       " 'LS_COLORS': 'rs=0:di=01;34:ln=01;36:mh=00:pi=40;33:so=01;35:do=01;35:bd=40;33;01:cd=40;33;01:or=40;31;01:mi=00:su=37;41:sg=30;43:ca=30;41:tw=30;42:ow=34;42:st=37;44:ex=01;32:*.tar=01;31:*.tgz=01;31:*.arc=01;31:*.arj=01;31:*.taz=01;31:*.lha=01;31:*.lz4=01;31:*.lzh=01;31:*.lzma=01;31:*.tlz=01;31:*.txz=01;31:*.tzo=01;31:*.t7z=01;31:*.zip=01;31:*.z=01;31:*.dz=01;31:*.gz=01;31:*.lrz=01;31:*.lz=01;31:*.lzo=01;31:*.xz=01;31:*.zst=01;31:*.tzst=01;31:*.bz2=01;31:*.bz=01;31:*.tbz=01;31:*.tbz2=01;31:*.tz=01;31:*.deb=01;31:*.rpm=01;31:*.jar=01;31:*.war=01;31:*.ear=01;31:*.sar=01;31:*.rar=01;31:*.alz=01;31:*.ace=01;31:*.zoo=01;31:*.cpio=01;31:*.7z=01;31:*.rz=01;31:*.cab=01;31:*.wim=01;31:*.swm=01;31:*.dwm=01;31:*.esd=01;31:*.jpg=01;35:*.jpeg=01;35:*.mjpg=01;35:*.mjpeg=01;35:*.gif=01;35:*.bmp=01;35:*.pbm=01;35:*.pgm=01;35:*.ppm=01;35:*.tga=01;35:*.xbm=01;35:*.xpm=01;35:*.tif=01;35:*.tiff=01;35:*.png=01;35:*.svg=01;35:*.svgz=01;35:*.mng=01;35:*.pcx=01;35:*.mov=01;35:*.mpg=01;35:*.mpeg=01;35:*.m2v=01;35:*.mkv=01;35:*.webm=01;35:*.webp=01;35:*.ogm=01;35:*.mp4=01;35:*.m4v=01;35:*.mp4v=01;35:*.vob=01;35:*.qt=01;35:*.nuv=01;35:*.wmv=01;35:*.asf=01;35:*.rm=01;35:*.rmvb=01;35:*.flc=01;35:*.avi=01;35:*.fli=01;35:*.flv=01;35:*.gl=01;35:*.dl=01;35:*.xcf=01;35:*.xwd=01;35:*.yuv=01;35:*.cgm=01;35:*.emf=01;35:*.ogv=01;35:*.ogx=01;35:*.aac=00;36:*.au=00;36:*.flac=00;36:*.m4a=00;36:*.mid=00;36:*.midi=00;36:*.mka=00;36:*.mp3=00;36:*.mpc=00;36:*.ogg=00;36:*.ra=00;36:*.wav=00;36:*.oga=00;36:*.opus=00;36:*.spx=00;36:*.xspf=00;36:',\n",
       " 'XDG_CURRENT_DESKTOP': 'ubuntu:GNOME',\n",
       " 'VIRTUAL_ENV': '/home/leosmigel/Development/alphaapps/venv',\n",
       " 'VTE_VERSION': '6800',\n",
       " 'GNOME_TERMINAL_SCREEN': '/org/gnome/Terminal/screen/e7f530e7_1e55_47a1_9c5b_270b9fb940f0',\n",
       " 'LESSCLOSE': '/usr/bin/lesspipe %s %s',\n",
       " 'XDG_SESSION_CLASS': 'user',\n",
       " 'TERM': 'xterm-color',\n",
       " 'LESSOPEN': '| /usr/bin/lesspipe %s',\n",
       " 'USER': 'leosmigel',\n",
       " 'GNOME_TERMINAL_SERVICE': ':1.103',\n",
       " 'DISPLAY': ':1',\n",
       " 'SHLVL': '1',\n",
       " 'QT_IM_MODULE': 'ibus',\n",
       " 'VIRTUAL_ENV_PROMPT': '(venv) ',\n",
       " 'XDG_RUNTIME_DIR': '/run/user/1026',\n",
       " 'PS1': '(venv) \\\\[\\\\e]0;\\\\u@\\\\h: \\\\w\\\\a\\\\]${debian_chroot:+($debian_chroot)}\\\\[\\\\033[01;32m\\\\]\\\\u@\\\\h\\\\[\\\\033[00m\\\\]:\\\\[\\\\033[01;34m\\\\]\\\\w\\\\[\\\\033[00m\\\\]\\\\$ ',\n",
       " 'XDG_DATA_DIRS': '/usr/share/ubuntu:/usr/share/gnome:/usr/local/share/:/usr/share/:/var/lib/snapd/desktop',\n",
       " 'PATH': '/home/leosmigel/Development/alphaapps/venv/bin:/home/leosmigel/.cargo/bin:/usr/local/sbin:/usr/local/bin:/usr/sbin:/usr/bin:/sbin:/bin:/usr/games:/usr/local/games:/snap/bin:/snap/bin',\n",
       " 'GDMSESSION': 'ubuntu',\n",
       " 'DBUS_SESSION_BUS_ADDRESS': 'unix:path=/run/user/1026/bus',\n",
       " 'OLDPWD': '/home/leosmigel/Development/alphaapps',\n",
       " '_': '/home/leosmigel/Development/alphaapps/venv/bin/jupyter',\n",
       " 'JPY_PARENT_PID': '16574',\n",
       " 'CLICOLOR': '1',\n",
       " 'PAGER': 'cat',\n",
       " 'GIT_PAGER': 'cat',\n",
       " 'MPLBACKEND': 'module://matplotlib_inline.backend_inline',\n",
       " 'MY_VAR': 'my_value',\n",
       " 'MY_MAGIC_VAR': 'my_value',\n",
       " 'MY_OTHER_MAGIC_VAR': 'my_other_value',\n",
       " 'MY_OTHER_VAR': 'my_other_value'}"
      ]
     },
     "execution_count": 20,
     "metadata": {},
     "output_type": "execute_result"
    }
   ],
   "source": [
    "%env MY_MAGIC_VAR=my_value\n",
    "%set_env MY_OTHER_MAGIC_VAR=my_other_value\n",
    "%env"
   ]
  },
  {
   "cell_type": "markdown",
   "id": "75186778",
   "metadata": {},
   "source": [
    "### Using python-dotenv"
   ]
  },
  {
   "cell_type": "code",
   "execution_count": null,
   "id": "f66158ff",
   "metadata": {},
   "outputs": [],
   "source": [
    "!pip install python-dotenv"
   ]
  },
  {
   "cell_type": "code",
   "execution_count": null,
   "id": "115b4f5b",
   "metadata": {},
   "outputs": [],
   "source": [
    "from dotenv import load_dotenv\n",
    "load_dotenv()\n",
    "print(os.environ.get('MY_OTHER_VAR'))"
   ]
  },
  {
   "cell_type": "markdown",
   "id": "bf8ec479",
   "metadata": {},
   "source": [
    "## Reloading environment variables"
   ]
  },
  {
   "cell_type": "code",
   "execution_count": 22,
   "id": "77122708",
   "metadata": {},
   "outputs": [],
   "source": [
    "%reload_ext autoreload"
   ]
  }
 ],
 "metadata": {
  "kernelspec": {
   "display_name": "Python 3 (ipykernel)",
   "language": "python",
   "name": "python3"
  },
  "language_info": {
   "codemirror_mode": {
    "name": "ipython",
    "version": 3
   },
   "file_extension": ".py",
   "mimetype": "text/x-python",
   "name": "python",
   "nbconvert_exporter": "python",
   "pygments_lexer": "ipython3",
   "version": "3.10.6"
  }
 },
 "nbformat": 4,
 "nbformat_minor": 5
}
