version https://git-lfs.github.com/spec/v1
oid sha256:88cee426affb4b3268f0c2fd48efc12a8bfffa36b0ec430bd680a0c5eb68fa98
size 24269
