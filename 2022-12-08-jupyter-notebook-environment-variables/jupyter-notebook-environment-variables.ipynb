{
 "cells": [
  {
   "cell_type": "markdown",
   "id": "4b2235a0",
   "metadata": {},
   "source": [
    "## Using Environment Variables in Jupyter Notebook\n",
    "Check out the tutorial on https://analyzingalpha.com/jupyter-notebook-environment-variables"
   ]
  },
  {
   "cell_type": "markdown",
   "id": "8e59a386",
   "metadata": {},
   "source": [
    "## List Variables"
   ]
  },
  {
   "cell_type": "code",
   "execution_count": 9,
   "id": "7caacbbf",
   "metadata": {},
   "outputs": [
    {
     "data": {
      "text/plain": [
       "{'SHELL': '/bin/bash',\n",
       " 'SESSION_MANAGER': 'local/alphaspark:@/tmp/.ICE-unix/8695,unix/alphaspark:/tmp/.ICE-unix/8695',\n",
       " 'QT_ACCESSIBILITY': '1',\n",
       " 'COLORTERM': 'truecolor',\n",
       " 'XDG_CONFIG_DIRS': '/etc/xdg/xdg-ubuntu:/etc/xdg',\n",
       " 'SSH_AGENT_LAUNCHER': 'gnome-keyring',\n",
       " 'XDG_MENU_PREFIX': 'gnome-',\n",
       " 'GNOME_DESKTOP_SESSION_ID': 'this-is-deprecated',\n",
       " 'GNOME_SHELL_SESSION_MODE': 'ubuntu',\n",
       " 'SSH_AUTH_SOCK': '/run/user/1026/keyring/ssh',\n",
       " 'XMODIFIERS': '@im=ibus',\n",
       " 'DESKTOP_SESSION': 'ubuntu',\n",
       " 'GTK_MODULES': 'gail:atk-bridge',\n",
       " 'PWD': '/home/leosmigel/Development/alphaapps/sites/analyzingalpha.com/notebooks/jupyter-notebook-environment-variables',\n",
       " 'LOGNAME': 'leosmigel',\n",
       " 'XDG_SESSION_DESKTOP': 'ubuntu',\n",
       " 'XDG_SESSION_TYPE': 'x11',\n",
       " 'GPG_AGENT_INFO': '/run/user/1026/gnupg/S.gpg-agent:0:1',\n",
       " 'SYSTEMD_EXEC_PID': '8717',\n",
       " 'XAUTHORITY': '/run/user/1026/gdm/Xauthority',\n",
       " 'WINDOWPATH': '2',\n",
       " 'HOME': '/home/leosmigel',\n",
       " 'USERNAME': 'leosmigel',\n",
       " 'LANG': 'en_US.UTF-8',\n",
       " 'LS_COLORS': 'rs=0:di=01;34:ln=01;36:mh=00:pi=40;33:so=01;35:do=01;35:bd=40;33;01:cd=40;33;01:or=40;31;01:mi=00:su=37;41:sg=30;43:ca=30;41:tw=30;42:ow=34;42:st=37;44:ex=01;32:*.tar=01;31:*.tgz=01;31:*.arc=01;31:*.arj=01;31:*.taz=01;31:*.lha=01;31:*.lz4=01;31:*.lzh=01;31:*.lzma=01;31:*.tlz=01;31:*.txz=01;31:*.tzo=01;31:*.t7z=01;31:*.zip=01;31:*.z=01;31:*.dz=01;31:*.gz=01;31:*.lrz=01;31:*.lz=01;31:*.lzo=01;31:*.xz=01;31:*.zst=01;31:*.tzst=01;31:*.bz2=01;31:*.bz=01;31:*.tbz=01;31:*.tbz2=01;31:*.tz=01;31:*.deb=01;31:*.rpm=01;31:*.jar=01;31:*.war=01;31:*.ear=01;31:*.sar=01;31:*.rar=01;31:*.alz=01;31:*.ace=01;31:*.zoo=01;31:*.cpio=01;31:*.7z=01;31:*.rz=01;31:*.cab=01;31:*.wim=01;31:*.swm=01;31:*.dwm=01;31:*.esd=01;31:*.jpg=01;35:*.jpeg=01;35:*.mjpg=01;35:*.mjpeg=01;35:*.gif=01;35:*.bmp=01;35:*.pbm=01;35:*.pgm=01;35:*.ppm=01;35:*.tga=01;35:*.xbm=01;35:*.xpm=01;35:*.tif=01;35:*.tiff=01;35:*.png=01;35:*.svg=01;35:*.svgz=01;35:*.mng=01;35:*.pcx=01;35:*.mov=01;35:*.mpg=01;35:*.mpeg=01;35:*.m2v=01;35:*.mkv=01;35:*.webm=01;35:*.webp=01;35:*.ogm=01;35:*.mp4=01;35:*.m4v=01;35:*.mp4v=01;35:*.vob=01;35:*.qt=01;35:*.nuv=01;35:*.wmv=01;35:*.asf=01;35:*.rm=01;35:*.rmvb=01;35:*.flc=01;35:*.avi=01;35:*.fli=01;35:*.flv=01;35:*.gl=01;35:*.dl=01;35:*.xcf=01;35:*.xwd=01;35:*.yuv=01;35:*.cgm=01;35:*.emf=01;35:*.ogv=01;35:*.ogx=01;35:*.aac=00;36:*.au=00;36:*.flac=00;36:*.m4a=00;36:*.mid=00;36:*.midi=00;36:*.mka=00;36:*.mp3=00;36:*.mpc=00;36:*.ogg=00;36:*.ra=00;36:*.wav=00;36:*.oga=00;36:*.opus=00;36:*.spx=00;36:*.xspf=00;36:',\n",
       " 'XDG_CURRENT_DESKTOP': 'ubuntu:GNOME',\n",
       " 'VIRTUAL_ENV': '/home/leosmigel/Development/alphaapps/venv',\n",
       " 'VTE_VERSION': '6800',\n",
       " 'GNOME_TERMINAL_SCREEN': '/org/gnome/Terminal/screen/e7f530e7_1e55_47a1_9c5b_270b9fb940f0',\n",
       " 'LESSCLOSE': '/usr/bin/lesspipe %s %s',\n",
       " 'XDG_SESSION_CLASS': 'user',\n",
       " 'TERM': 'xterm-color',\n",
       " 'LESSOPEN': '| /usr/bin/lesspipe %s',\n",
       " 'USER': 'leosmigel',\n",
       " 'GNOME_TERMINAL_SERVICE': ':1.103',\n",
       " 'DISPLAY': ':1',\n",
       " 'SHLVL': '1',\n",
       " 'QT_IM_MODULE': 'ibus',\n",
       " 'VIRTUAL_ENV_PROMPT': '(venv) ',\n",
       " 'XDG_RUNTIME_DIR': '/run/user/1026',\n",
       " 'PS1': '(venv) \\\\[\\\\e]0;\\\\u@\\\\h: \\\\w\\\\a\\\\]${debian_chroot:+($debian_chroot)}\\\\[\\\\033[01;32m\\\\]\\\\u@\\\\h\\\\[\\\\033[00m\\\\]:\\\\[\\\\033[01;34m\\\\]\\\\w\\\\[\\\\033[00m\\\\]\\\\$ ',\n",
       " 'XDG_DATA_DIRS': '/usr/share/ubuntu:/usr/share/gnome:/usr/local/share/:/usr/share/:/var/lib/snapd/desktop',\n",
       " 'PATH': '/home/leosmigel/Development/alphaapps/venv/bin:/home/leosmigel/.cargo/bin:/usr/local/sbin:/usr/local/bin:/usr/sbin:/usr/bin:/sbin:/bin:/usr/games:/usr/local/games:/snap/bin:/snap/bin',\n",
       " 'GDMSESSION': 'ubuntu',\n",
       " 'DBUS_SESSION_BUS_ADDRESS': 'unix:path=/run/user/1026/bus',\n",
       " 'OLDPWD': '/home/leosmigel/Development/alphaapps',\n",
       " '_': '/home/leosmigel/Development/alphaapps/venv/bin/jupyter',\n",
       " 'JPY_PARENT_PID': '16574',\n",
       " 'CLICOLOR': '1',\n",
       " 'PAGER': 'cat',\n",
       " 'GIT_PAGER': 'cat',\n",
       " 'MPLBACKEND': 'module://matplotlib_inline.backend_inline',\n",
       " 'MY_VAR': 'my_value',\n",
       " 'MY_MAGIC_VAR': 'magic_var',\n",
       " 'MY_OTHER_MAGIC_VAR': 'my_other_magic_var'}"
      ]
     },
     "execution_count": 9,
     "metadata": {},
     "output_type": "execute_result"
    }
   ],
   "source": [
    "%env"
   ]
  },
  {
   "cell_type": "code",
   "execution_count": 10,
   "id": "5f8ca30f",
   "metadata": {},
   "outputs": [
    {
     "name": "stdout",
     "output_type": "stream",
     "text": [
      "SHELL=/bin/bash\r\n",
      "SESSION_MANAGER=local/alphaspark:@/tmp/.ICE-unix/8695,unix/alphaspark:/tmp/.ICE-unix/8695\r\n",
      "QT_ACCESSIBILITY=1\r\n",
      "COLORTERM=truecolor\r\n",
      "XDG_CONFIG_DIRS=/etc/xdg/xdg-ubuntu:/etc/xdg\r\n",
      "SSH_AGENT_LAUNCHER=gnome-keyring\r\n",
      "XDG_MENU_PREFIX=gnome-\r\n",
      "GNOME_DESKTOP_SESSION_ID=this-is-deprecated\r\n",
      "GNOME_SHELL_SESSION_MODE=ubuntu\r\n",
      "SSH_AUTH_SOCK=/run/user/1026/keyring/ssh\r\n",
      "XMODIFIERS=@im=ibus\r\n",
      "DESKTOP_SESSION=ubuntu\r\n",
      "GTK_MODULES=gail:atk-bridge\r\n",
      "MY_OTHER_MAGIC_VAR=my_other_magic_var\r\n",
      "PWD=/home/leosmigel/Development/alphaapps/sites/analyzingalpha.com/notebooks/jupyter-notebook-environment-variables\r\n",
      "XDG_SESSION_DESKTOP=ubuntu\r\n",
      "LOGNAME=leosmigel\r\n",
      "XDG_SESSION_TYPE=x11\r\n",
      "GPG_AGENT_INFO=/run/user/1026/gnupg/S.gpg-agent:0:1\r\n",
      "SYSTEMD_EXEC_PID=8717\r\n",
      "_=/usr/bin/printenv\r\n",
      "XAUTHORITY=/run/user/1026/gdm/Xauthority\r\n",
      "WINDOWPATH=2\r\n",
      "HOME=/home/leosmigel\r\n",
      "USERNAME=leosmigel\r\n",
      "LANG=en_US.UTF-8\r\n",
      "MY_VAR=my_value\r\n",
      "LS_COLORS=rs=0:di=01;34:ln=01;36:mh=00:pi=40;33:so=01;35:do=01;35:bd=40;33;01:cd=40;33;01:or=40;31;01:mi=00:su=37;41:sg=30;43:ca=30;41:tw=30;42:ow=34;42:st=37;44:ex=01;32:*.tar=01;31:*.tgz=01;31:*.arc=01;31:*.arj=01;31:*.taz=01;31:*.lha=01;31:*.lz4=01;31:*.lzh=01;31:*.lzma=01;31:*.tlz=01;31:*.txz=01;31:*.tzo=01;31:*.t7z=01;31:*.zip=01;31:*.z=01;31:*.dz=01;31:*.gz=01;31:*.lrz=01;31:*.lz=01;31:*.lzo=01;31:*.xz=01;31:*.zst=01;31:*.tzst=01;31:*.bz2=01;31:*.bz=01;31:*.tbz=01;31:*.tbz2=01;31:*.tz=01;31:*.deb=01;31:*.rpm=01;31:*.jar=01;31:*.war=01;31:*.ear=01;31:*.sar=01;31:*.rar=01;31:*.alz=01;31:*.ace=01;31:*.zoo=01;31:*.cpio=01;31:*.7z=01;31:*.rz=01;31:*.cab=01;31:*.wim=01;31:*.swm=01;31:*.dwm=01;31:*.esd=01;31:*.jpg=01;35:*.jpeg=01;35:*.mjpg=01;35:*.mjpeg=01;35:*.gif=01;35:*.bmp=01;35:*.pbm=01;35:*.pgm=01;35:*.ppm=01;35:*.tga=01;35:*.xbm=01;35:*.xpm=01;35:*.tif=01;35:*.tiff=01;35:*.png=01;35:*.svg=01;35:*.svgz=01;35:*.mng=01;35:*.pcx=01;35:*.mov=01;35:*.mpg=01;35:*.mpeg=01;35:*.m2v=01;35:*.mkv=01;35:*.webm=01;35:*.webp=01;35:*.ogm=01;35:*.mp4=01;35:*.m4v=01;35:*.mp4v=01;35:*.vob=01;35:*.qt=01;35:*.nuv=01;35:*.wmv=01;35:*.asf=01;35:*.rm=01;35:*.rmvb=01;35:*.flc=01;35:*.avi=01;35:*.fli=01;35:*.flv=01;35:*.gl=01;35:*.dl=01;35:*.xcf=01;35:*.xwd=01;35:*.yuv=01;35:*.cgm=01;35:*.emf=01;35:*.ogv=01;35:*.ogx=01;35:*.aac=00;36:*.au=00;36:*.flac=00;36:*.m4a=00;36:*.mid=00;36:*.midi=00;36:*.mka=00;36:*.mp3=00;36:*.mpc=00;36:*.ogg=00;36:*.ra=00;36:*.wav=00;36:*.oga=00;36:*.opus=00;36:*.spx=00;36:*.xspf=00;36:\r\n",
      "XDG_CURRENT_DESKTOP=ubuntu:GNOME\r\n",
      "VIRTUAL_ENV=/home/leosmigel/Development/alphaapps/venv\r\n",
      "VTE_VERSION=6800\r\n",
      "GNOME_TERMINAL_SCREEN=/org/gnome/Terminal/screen/e7f530e7_1e55_47a1_9c5b_270b9fb940f0\r\n",
      "CLICOLOR=1\r\n",
      "JPY_PARENT_PID=16574\r\n",
      "LESSCLOSE=/usr/bin/lesspipe %s %s\r\n",
      "XDG_SESSION_CLASS=user\r\n",
      "TERM=xterm-color\r\n",
      "LESSOPEN=| /usr/bin/lesspipe %s\r\n",
      "USER=leosmigel\r\n",
      "GIT_PAGER=cat\r\n",
      "GNOME_TERMINAL_SERVICE=:1.103\r\n",
      "DISPLAY=:1\r\n",
      "SHLVL=1\r\n",
      "PAGER=cat\r\n",
      "QT_IM_MODULE=ibus\r\n",
      "MY_MAGIC_VAR=magic_var\r\n",
      "VIRTUAL_ENV_PROMPT=(venv) \r\n",
      "MPLBACKEND=module://matplotlib_inline.backend_inline\r\n",
      "XDG_RUNTIME_DIR=/run/user/1026\r\n",
      "XDG_DATA_DIRS=/usr/share/ubuntu:/usr/share/gnome:/usr/local/share/:/usr/share/:/var/lib/snapd/desktop\r\n",
      "PATH=/home/leosmigel/Development/alphaapps/venv/bin:/home/leosmigel/.cargo/bin:/usr/local/sbin:/usr/local/bin:/usr/sbin:/usr/bin:/sbin:/bin:/usr/games:/usr/local/games:/snap/bin:/snap/bin\r\n",
      "GDMSESSION=ubuntu\r\n",
      "DBUS_SESSION_BUS_ADDRESS=unix:path=/run/user/1026/bus\r\n",
      "OLDPWD=/home/leosmigel/Development/alphaapps\r\n"
     ]
    }
   ],
   "source": [
    "!printenv"
   ]
  },
  {
   "cell_type": "markdown",
   "id": "009b000a",
   "metadata": {},
   "source": [
    "## Setting and Getting Environment Varibles"
   ]
  },
  {
   "cell_type": "markdown",
   "id": "17c17fc4",
   "metadata": {},
   "source": [
    "### Using OS"
   ]
  },
  {
   "cell_type": "code",
   "execution_count": 10,
   "id": "b127255b",
   "metadata": {},
   "outputs": [],
   "source": [
    "import os\n",
    "os.environ['MY_VAR'] = 'my_value'"
   ]
  },
  {
   "cell_type": "code",
   "execution_count": 13,
   "id": "298c45a8",
   "metadata": {},
   "outputs": [
    {
     "data": {
      "text/plain": [
       "'my_value'"
      ]
     },
     "execution_count": 13,
     "metadata": {},
     "output_type": "execute_result"
    }
   ],
   "source": [
    "my_var = os.environ['MY_VAR']\n",
    "my_var "
   ]
  },
  {
   "cell_type": "code",
   "execution_count": 15,
   "id": "8638578b",
   "metadata": {},
   "outputs": [
    {
     "ename": "KeyError",
     "evalue": "'MY_VAR2'",
     "output_type": "error",
     "traceback": [
      "\u001b[1;31m---------------------------------------------------------------------------\u001b[0m",
      "\u001b[1;31mKeyError\u001b[0m                                  Traceback (most recent call last)",
      "\u001b[1;32m~\\AppData\\Local\\Temp\\ipykernel_19468\\3350685832.py\u001b[0m in \u001b[0;36m<module>\u001b[1;34m\u001b[0m\n\u001b[0;32m      1\u001b[0m \u001b[1;31m# this code will return an exception\u001b[0m\u001b[1;33m\u001b[0m\u001b[1;33m\u001b[0m\u001b[0m\n\u001b[0;32m      2\u001b[0m \u001b[1;31m# since the environment variable does not exit\u001b[0m\u001b[1;33m\u001b[0m\u001b[1;33m\u001b[0m\u001b[0m\n\u001b[1;32m----> 3\u001b[1;33m \u001b[0mmy_var\u001b[0m \u001b[1;33m=\u001b[0m \u001b[0mos\u001b[0m\u001b[1;33m.\u001b[0m\u001b[0menviron\u001b[0m\u001b[1;33m[\u001b[0m\u001b[1;34m'MY_VAR2'\u001b[0m\u001b[1;33m]\u001b[0m\u001b[1;33m\u001b[0m\u001b[1;33m\u001b[0m\u001b[0m\n\u001b[0m\u001b[0;32m      4\u001b[0m \u001b[0mmy_var\u001b[0m \u001b[1;31m# the \"MY_VAR2\" variable does not exist\u001b[0m\u001b[1;33m\u001b[0m\u001b[1;33m\u001b[0m\u001b[0m\n",
      "\u001b[1;32m~\\anaconda3\\lib\\os.py\u001b[0m in \u001b[0;36m__getitem__\u001b[1;34m(self, key)\u001b[0m\n\u001b[0;32m    677\u001b[0m         \u001b[1;32mexcept\u001b[0m \u001b[0mKeyError\u001b[0m\u001b[1;33m:\u001b[0m\u001b[1;33m\u001b[0m\u001b[1;33m\u001b[0m\u001b[0m\n\u001b[0;32m    678\u001b[0m             \u001b[1;31m# raise KeyError with the original key value\u001b[0m\u001b[1;33m\u001b[0m\u001b[1;33m\u001b[0m\u001b[0m\n\u001b[1;32m--> 679\u001b[1;33m             \u001b[1;32mraise\u001b[0m \u001b[0mKeyError\u001b[0m\u001b[1;33m(\u001b[0m\u001b[0mkey\u001b[0m\u001b[1;33m)\u001b[0m \u001b[1;32mfrom\u001b[0m \u001b[1;32mNone\u001b[0m\u001b[1;33m\u001b[0m\u001b[1;33m\u001b[0m\u001b[0m\n\u001b[0m\u001b[0;32m    680\u001b[0m         \u001b[1;32mreturn\u001b[0m \u001b[0mself\u001b[0m\u001b[1;33m.\u001b[0m\u001b[0mdecodevalue\u001b[0m\u001b[1;33m(\u001b[0m\u001b[0mvalue\u001b[0m\u001b[1;33m)\u001b[0m\u001b[1;33m\u001b[0m\u001b[1;33m\u001b[0m\u001b[0m\n\u001b[0;32m    681\u001b[0m \u001b[1;33m\u001b[0m\u001b[0m\n",
      "\u001b[1;31mKeyError\u001b[0m: 'MY_VAR2'"
     ]
    }
   ],
   "source": [
    "# this code will return an exception \n",
    "# since the environment variable does not exit\n",
    "my_var = os.environ['MY_VAR2']\n",
    "my_var # the \"MY_VAR2\" variable does not exist "
   ]
  },
  {
   "cell_type": "code",
   "execution_count": 16,
   "id": "db48eb55",
   "metadata": {},
   "outputs": [
    {
     "data": {
      "text/plain": [
       "'my_value'"
      ]
     },
     "execution_count": 16,
     "metadata": {},
     "output_type": "execute_result"
    }
   ],
   "source": [
    "my_var = os.getenv('MY_VAR')\n",
    "my_var "
   ]
  },
  {
   "cell_type": "code",
   "execution_count": 17,
   "id": "4e8985ea",
   "metadata": {},
   "outputs": [
    {
     "name": "stdout",
     "output_type": "stream",
     "text": [
      "None\n"
     ]
    }
   ],
   "source": [
    "my_var = os.getenv('MY_VAR2')\n",
    "print(my_var) # Output : None"
   ]
  },
  {
   "cell_type": "code",
   "execution_count": 18,
   "id": "1f7ccd4d",
   "metadata": {},
   "outputs": [
    {
     "name": "stdout",
     "output_type": "stream",
     "text": [
      "default value\n"
     ]
    }
   ],
   "source": [
    "my_var = os.getenv('MY_VAR2', 'default value')\n",
    "print(my_var) # Output: \"default value\""
   ]
  },
  {
   "cell_type": "code",
   "execution_count": 12,
   "id": "3c2b48aa",
   "metadata": {},
   "outputs": [
    {
     "name": "stdout",
     "output_type": "stream",
     "text": [
      "MY_VAR=my_value\r\n"
     ]
    }
   ],
   "source": [
    "!printenv | grep value"
   ]
  },
  {
   "cell_type": "markdown",
   "id": "b8fc57cc",
   "metadata": {},
   "source": [
    "### Using Magic Commands"
   ]
  },
  {
   "cell_type": "code",
   "execution_count": 7,
   "id": "02282766",
   "metadata": {},
   "outputs": [
    {
     "name": "stdout",
     "output_type": "stream",
     "text": [
      "env: MY_MAGIC_VAR=my_value\n",
      "env: MY_OTHER_MAGIC_VAR=my_other_value\n"
     ]
    },
    {
     "data": {
      "text/plain": [
       "{'ALLUSERSPROFILE': 'C:\\\\ProgramData',\n",
       " 'AP-KEY': '<hidden>',\n",
       " 'AP-SECRET': '<hidden>',\n",
       " 'APPDATA': 'C:\\\\Users\\\\usman\\\\AppData\\\\Roaming',\n",
       " 'AV-KEY': '<hidden>',\n",
       " 'BAP-KEY': '<hidden>',\n",
       " 'BAP-SECRET': '<hidden>',\n",
       " 'BC-KEY': '<hidden>',\n",
       " 'BC-SECRET': '<hidden>',\n",
       " 'BCL-KEY': '<hidden>',\n",
       " 'BCL-SECRET': '<hidden>',\n",
       " 'CB-KEY': '<hidden>',\n",
       " 'CB-PRO-KEY': '<hidden>',\n",
       " 'CB-PRO-PASS': 'es9okm96zcl',\n",
       " 'CB-PRO-SB-KEY': '<hidden>',\n",
       " 'CB-PRO-SB-PASS': '0nvqyl9d0e2q',\n",
       " 'CB-PRO-SB-SECRET': '<hidden>',\n",
       " 'CB-PRO-SECRET': '<hidden>',\n",
       " 'CB-SECRET': '<hidden>',\n",
       " 'CMC-KEY': '<hidden>',\n",
       " 'COMMONPROGRAMFILES': 'C:\\\\Program Files\\\\Common Files',\n",
       " 'COMMONPROGRAMFILES(X86)': 'C:\\\\Program Files (x86)\\\\Common Files',\n",
       " 'COMMONPROGRAMW6432': 'C:\\\\Program Files\\\\Common Files',\n",
       " 'COMPUTERNAME': 'DESKTOP-3ARAJ08',\n",
       " 'COMSPEC': 'C:\\\\WINDOWS\\\\system32\\\\cmd.exe',\n",
       " 'DEEPL-KEY': '<hidden>',\n",
       " 'DRIVERDATA': 'C:\\\\Windows\\\\System32\\\\Drivers\\\\DriverData',\n",
       " 'EFC_10128': '1',\n",
       " 'FH_KEY': '<hidden>',\n",
       " 'FPS_BROWSER_APP_PROFILE_STRING': 'Internet Explorer',\n",
       " 'FPS_BROWSER_USER_PROFILE_STRING': 'Default',\n",
       " 'GN-KEY': '<hidden>',\n",
       " 'GSS-KEY': '<hidden>',\n",
       " 'HOMEDRIVE': 'C:',\n",
       " 'HOMEPATH': '\\\\Users\\\\usman',\n",
       " 'HUGGINGFACEHUB_API_TOKEN': '<hidden>',\n",
       " 'IEX-TOKEN': '<hidden>',\n",
       " 'KC-API_NAME': 'MyKuCoinAPI',\n",
       " 'KC-KEY': '<hidden>',\n",
       " 'KC-KEY2': '<hidden>',\n",
       " 'KC-PASSPHRASE': 'karokekc9371',\n",
       " 'KC-PASSPHRASE2': 'kucoinapi123',\n",
       " 'KC-SECRET': '<hidden>',\n",
       " 'KC-SECRET2': '<hidden>',\n",
       " 'LOCALAPPDATA': 'C:\\\\Users\\\\usman\\\\AppData\\\\Local',\n",
       " 'LOGONSERVER': '\\\\\\\\DESKTOP-3ARAJ08',\n",
       " 'MSMPI_BENCHMARKS': 'C:\\\\Program Files\\\\Microsoft MPI\\\\Benchmarks\\\\',\n",
       " 'MSMPI_BIN': 'C:\\\\Program Files\\\\Microsoft MPI\\\\Bin\\\\',\n",
       " 'NUMBER_OF_PROCESSORS': '16',\n",
       " 'ONEDRIVE': 'C:\\\\Users\\\\usman\\\\OneDrive',\n",
       " 'ONEDRIVECONSUMER': 'C:\\\\Users\\\\usman\\\\OneDrive',\n",
       " 'OPENAI_KEY': '<hidden>',\n",
       " 'OPENAI_KEY2': '<hidden>',\n",
       " 'OS': 'Windows_NT',\n",
       " 'PATH': 'C:\\\\Users\\\\usman\\\\anaconda3;C:\\\\Users\\\\usman\\\\anaconda3\\\\Library\\\\mingw-w64\\\\bin;C:\\\\Users\\\\usman\\\\anaconda3\\\\Library\\\\usr\\\\bin;C:\\\\Users\\\\usman\\\\anaconda3\\\\Library\\\\bin;C:\\\\Users\\\\usman\\\\anaconda3\\\\Scripts;C:\\\\Program Files\\\\Microsoft MPI\\\\Bin\\\\;C:\\\\Windows\\\\system32;C:\\\\Windows;C:\\\\Windows\\\\System32\\\\Wbem;C:\\\\Windows\\\\System32\\\\WindowsPowerShell\\\\v1.0\\\\;C:\\\\Windows\\\\System32\\\\OpenSSH\\\\;C:\\\\Program Files (x86)\\\\Microsoft SQL Server\\\\150\\\\Tools\\\\Binn\\\\;C:\\\\Program Files\\\\Microsoft SQL Server\\\\150\\\\Tools\\\\Binn\\\\;C:\\\\Program Files (x86)\\\\Microsoft SQL Server\\\\150\\\\DTS\\\\Binn\\\\;C:\\\\Program Files\\\\Microsoft SQL Server\\\\150\\\\DTS\\\\Binn\\\\;C:\\\\Program Files\\\\Microsoft SQL Server\\\\Client SDK\\\\ODBC\\\\170\\\\Tools\\\\Binn\\\\;C:\\\\Program Files\\\\Azure Data Studio\\\\bin;C:\\\\Program Files\\\\dotnet\\\\;C:\\\\Users\\\\usman\\\\anaconda3\\\\python.exe;C:\\\\Program Files\\\\Git\\\\cmd;D:\\\\FFMPEG;;%SystemRoot%\\\\system32;%SystemRoot%;%SystemRoot%\\\\System32\\\\Wbem;%SYSTEMROOT%\\\\System32\\\\WindowsPowerShell\\\\v1.0\\\\;%SYSTEMROOT%\\\\System32\\\\OpenSSH\\\\;C:\\\\Users\\\\usman\\\\AppData\\\\Local\\\\Microsoft\\\\WindowsApps;C:\\\\Program Files\\\\Azure Data Studio\\\\bin;C:\\\\Users\\\\usman\\\\.dotnet\\\\tools;C:\\\\Users\\\\usman\\\\AppData\\\\Local\\\\atom\\\\bin;C:\\\\Users\\\\usman\\\\AppData\\\\Local\\\\Programs\\\\Microsoft VS Code\\\\bin;C:\\\\Users\\\\usman\\\\.dotnet\\\\tools;C:\\\\Users\\\\usman\\\\AppData\\\\Local\\\\Microsoft\\\\WindowsApps;',\n",
       " 'PATHEXT': '.COM;.EXE;.BAT;.CMD;.VBS;.VBE;.JS;.JSE;.WSF;.WSH;.MSC',\n",
       " 'PROCESSOR_ARCHITECTURE': 'AMD64',\n",
       " 'PROCESSOR_IDENTIFIER': 'Intel64 Family 6 Model 141 Stepping 1, GenuineIntel',\n",
       " 'PROCESSOR_LEVEL': '6',\n",
       " 'PROCESSOR_REVISION': '8d01',\n",
       " 'PROGRAMDATA': 'C:\\\\ProgramData',\n",
       " 'PROGRAMFILES': 'C:\\\\Program Files',\n",
       " 'PROGRAMFILES(X86)': 'C:\\\\Program Files (x86)',\n",
       " 'PROGRAMW6432': 'C:\\\\Program Files',\n",
       " 'PSMODULEPATH': 'C:\\\\Program Files\\\\WindowsPowerShell\\\\Modules;C:\\\\WINDOWS\\\\system32\\\\WindowsPowerShell\\\\v1.0\\\\Modules;C:\\\\Program Files (x86)\\\\Microsoft SQL Server\\\\150\\\\Tools\\\\PowerShell\\\\Modules\\\\',\n",
       " 'PUBLIC': 'C:\\\\Users\\\\Public',\n",
       " 'SESSIONNAME': 'Console',\n",
       " 'SYSTEMDRIVE': 'C:',\n",
       " 'SYSTEMROOT': 'C:\\\\WINDOWS',\n",
       " 'TD_KEY': '<hidden>',\n",
       " 'TEMP': 'C:\\\\Users\\\\usman\\\\AppData\\\\Local\\\\Temp',\n",
       " 'TMP': 'C:\\\\Users\\\\usman\\\\AppData\\\\Local\\\\Temp',\n",
       " 'TRADIER_SB_TOKEN': '<hidden>',\n",
       " 'TRADIER_TOKEN': '<hidden>',\n",
       " 'TWITTER-ACCESS-TOKEN': '<hidden>',\n",
       " 'TWITTER-ACCESS-TOKEN-SECRET': '<hidden>',\n",
       " 'TWITTER-BEARER-TOKEN': '<hidden>',\n",
       " 'TWITTER_API_KEY': '<hidden>',\n",
       " 'TWITTER_API_KEY_SECRET': '<hidden>',\n",
       " 'TWITTER_BEARER_TOKEN': '<hidden>',\n",
       " 'USERDOMAIN': 'DESKTOP-3ARAJ08',\n",
       " 'USERDOMAIN_ROAMINGPROFILE': 'DESKTOP-3ARAJ08',\n",
       " 'USERNAME': 'usman',\n",
       " 'USERPROFILE': 'C:\\\\Users\\\\usman',\n",
       " 'WINDIR': 'C:\\\\WINDOWS',\n",
       " 'ZES_ENABLE_SYSMAN': '1',\n",
       " 'CONDA_PREFIX': 'C:\\\\Users\\\\usman\\\\anaconda3',\n",
       " 'PYDEVD_USE_FRAME_EVAL': 'NO',\n",
       " 'JPY_INTERRUPT_EVENT': '3528',\n",
       " 'IPY_INTERRUPT_EVENT': '3528',\n",
       " 'JPY_PARENT_PID': '3532',\n",
       " 'TERM': 'xterm-color',\n",
       " 'CLICOLOR': '1',\n",
       " 'PAGER': 'cat',\n",
       " 'GIT_PAGER': 'cat',\n",
       " 'MPLBACKEND': 'module://matplotlib_inline.backend_inline',\n",
       " 'MY_VAR': 'my_value',\n",
       " 'MY_MAGIC_VAR': 'my_value',\n",
       " 'MY_OTHER_MAGIC_VAR': 'my_other_value'}"
      ]
     },
     "execution_count": 7,
     "metadata": {},
     "output_type": "execute_result"
    }
   ],
   "source": [
    "%env MY_MAGIC_VAR=my_value\n",
    "%set_env MY_OTHER_MAGIC_VAR=my_other_value\n"
   ]
  },
  {
   "cell_type": "code",
   "execution_count": 19,
   "id": "d47a4b75",
   "metadata": {},
   "outputs": [
    {
     "data": {
      "text/plain": [
       "'my_value'"
      ]
     },
     "execution_count": 19,
     "metadata": {},
     "output_type": "execute_result"
    }
   ],
   "source": [
    "%env MY_MAGIC_VAR # Output: \"my_value\""
   ]
  },
  {
   "cell_type": "code",
   "execution_count": 21,
   "id": "b8a7afa6",
   "metadata": {},
   "outputs": [
    {
     "name": "stdout",
     "output_type": "stream",
     "text": [
      "env: MY_MAGIC_VAR2=new_env_var\n"
     ]
    }
   ],
   "source": [
    "env_var = \"new_env_var\"\n",
    "%env MY_MAGIC_VAR2= $env_var\n",
    "# Output \"new_env_var\""
   ]
  },
  {
   "cell_type": "markdown",
   "id": "d6fdbacd",
   "metadata": {},
   "source": [
    "## Unsetting/Deleting Environment Varibles"
   ]
  },
  {
   "cell_type": "code",
   "execution_count": null,
   "id": "e53ab561",
   "metadata": {},
   "outputs": [],
   "source": [
    "del os.environ['MY_MAGIC_VAR']"
   ]
  },
  {
   "cell_type": "markdown",
   "id": "75186778",
   "metadata": {},
   "source": [
    "### Using python-dotenv"
   ]
  },
  {
   "cell_type": "code",
   "execution_count": null,
   "id": "f66158ff",
   "metadata": {},
   "outputs": [],
   "source": [
    "pip install python-dotenv # for command line\n",
    "!pip install python-dotenv # for Jupyter notebook"
   ]
  },
  {
   "cell_type": "code",
   "execution_count": null,
   "id": "115b4f5b",
   "metadata": {},
   "outputs": [],
   "source": [
    "from dotenv import load_dotenv\n",
    "load_dotenv()\n",
    "print(os.environ.get('MY_OTHER_VAR'))\n",
    "\n",
    "# Output : my_other_value"
   ]
  },
  {
   "cell_type": "markdown",
   "id": "bf8ec479",
   "metadata": {},
   "source": [
    "## Reloading environment variables"
   ]
  },
  {
   "cell_type": "code",
   "execution_count": 22,
   "id": "77122708",
   "metadata": {},
   "outputs": [],
   "source": [
    "%reload_ext autoreload"
   ]
  },
  {
   "cell_type": "code",
   "execution_count": null,
   "id": "38ad9fad",
   "metadata": {},
   "outputs": [],
   "source": []
  }
 ],
 "metadata": {
  "kernelspec": {
   "display_name": "Python 3 (ipykernel)",
   "language": "python",
   "name": "python3"
  },
  "language_info": {
   "codemirror_mode": {
    "name": "ipython",
    "version": 3
   },
   "file_extension": ".py",
   "mimetype": "text/x-python",
   "name": "python",
   "nbconvert_exporter": "python",
   "pygments_lexer": "ipython3",
   "version": "3.9.13"
  }
 },
 "nbformat": 4,
 "nbformat_minor": 5
}
