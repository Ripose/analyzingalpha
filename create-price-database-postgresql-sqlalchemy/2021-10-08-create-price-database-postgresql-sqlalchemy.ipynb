{
 "cells": [
  {
   "cell_type": "markdown",
   "source": [
    "## How to Create a Price Database in PostgreSQL Using SQLAlchemy"
   ],
   "metadata": {}
  },
  {
   "cell_type": "markdown",
   "source": [
    "### Links\n",
    "- [How to Create a Price Database Using SQLAlchemy Blog Post](https://analyzingalpha.com/price-database-sqlalchemy)\n",
    "- [How to Create a Price Database YouTube Video](https://youtu.be/dfyB_ZVQ2jE)"
   ],
   "metadata": {}
  },
  {
   "cell_type": "markdown",
   "source": [
    "### 1. Get Imports"
   ],
   "metadata": {}
  },
  {
   "cell_type": "code",
   "execution_count": null,
   "source": [
    "import enum\n",
    "import numpy as np\n",
    "import pandas as pd\n",
    "\n",
    "from sqlalchemy import BigInteger, Boolean, Column, \\\n",
    "                       Date, DateTime, Enum, Float, ForeignKey, Integer, \\\n",
    "                       String, UniqueConstraint, and_, func\n",
    "from sqlalchemy.orm import relationship\n",
    "from psql import Base, db, session"
   ],
   "outputs": [],
   "metadata": {}
  },
  {
   "cell_type": "markdown",
   "source": [
    "Let's create a new class that inherits from enum to create constants that we can enumerate over for each of the markets that we'll analyze."
   ],
   "metadata": {}
  },
  {
   "cell_type": "markdown",
   "source": [
    "### 2. Create Market Class"
   ],
   "metadata": {}
  },
  {
   "cell_type": "code",
   "execution_count": null,
   "source": [
    "class Market(enum.Enum):\n",
    "    crypto = 'crypto'\n",
    "    stock = 'stock'\n",
    "    forex = 'forex'\n",
    "    futures = 'futures'\n",
    "   "
   ],
   "outputs": [],
   "metadata": {}
  },
  {
   "cell_type": "markdown",
   "source": [
    "### 3. Create SQLAlchemy Classes & Tables"
   ],
   "metadata": {}
  },
  {
   "cell_type": "markdown",
   "source": [
    "We'll create two tables. The first is the symbol and minute_bar tables, which have a parent/child relationship. For each table, we create a class an inherit from Base, which let's SQLAlchemy know this is an SQLAlchemy class/table. "
   ],
   "metadata": {}
  },
  {
   "cell_type": "code",
   "execution_count": null,
   "source": [
    "class Symbol(Base):\n",
    "    __tablename__ = 'symbol'\n",
    "    id = Column(Integer, primary_key=True, autoincrement=True)\n",
    "    ticker = Column(String(50), nullable=False)\n",
    "    name = Column(String(200), nullable=False)\n",
    "    market = Column(Enum(Market), nullable=False)\n",
    "    active = Column(Boolean, nullable=False)"
   ],
   "outputs": [],
   "metadata": {}
  },
  {
   "cell_type": "markdown",
   "source": [
    "We'll create a relationship on the minute_bar table that utilizes `backref`. SQLAlchemy understands to look at the classes and identify the type of relationship that exists. In our case, it's a one-to-many relationship. Additionally, we create `UniqueConstraint` on the symbol_id and date -- in other words, we should only have one bar per date per symbol."
   ],
   "metadata": {}
  },
  {
   "cell_type": "code",
   "execution_count": null,
   "source": [
    "class MinuteBar(Base):\n",
    "    __tablename__ = 'minute_bar'\n",
    "    id = Column(BigInteger, primary_key=True)\n",
    "    date = Column(DateTime, nullable=False)\n",
    "    open = Column(Float)\n",
    "    high = Column(Float)\n",
    "    low = Column(Float)\n",
    "    close = Column(Float)\n",
    "    volume = Column(Float)\n",
    "    symbol_id = Column(Integer,\n",
    "                      ForeignKey('symbol.id',\n",
    "                                 onupdate=\"CASCADE\",\n",
    "                                 ondelete=\"CASCADE\"),\n",
    "                      nullable=False)\n",
    "    symbol = relationship('Symbol', backref='symbol')\n",
    "    UniqueConstraint(symbol_id, date)"
   ],
   "outputs": [],
   "metadata": {}
  },
  {
   "cell_type": "markdown",
   "source": [
    "### 4. Create Database"
   ],
   "metadata": {}
  },
  {
   "cell_type": "markdown",
   "source": [
    "With our table classes created, let's create a function that creates our database. We use the Base metadata to create all of our classes that inherit from Base."
   ],
   "metadata": {}
  },
  {
   "cell_type": "code",
   "execution_count": null,
   "source": [
    "def create():\n",
    "    Base.metadata.create_all(db)"
   ],
   "outputs": [],
   "metadata": {}
  },
  {
   "cell_type": "code",
   "execution_count": null,
   "source": [
    "create()"
   ],
   "outputs": [],
   "metadata": {}
  }
 ],
 "metadata": {
  "kernelspec": {
   "display_name": "Python 3 (ipykernel)",
   "language": "python",
   "name": "python3"
  },
  "language_info": {
   "codemirror_mode": {
    "name": "ipython",
    "version": 3
   },
   "file_extension": ".py",
   "mimetype": "text/x-python",
   "name": "python",
   "nbconvert_exporter": "python",
   "pygments_lexer": "ipython3",
   "version": "3.9.7"
  }
 },
 "nbformat": 4,
 "nbformat_minor": 5
}