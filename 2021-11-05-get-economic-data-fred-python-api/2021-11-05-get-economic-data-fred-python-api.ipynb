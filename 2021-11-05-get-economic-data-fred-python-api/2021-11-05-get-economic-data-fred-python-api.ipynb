{
 "cells": [
  {
   "cell_type": "markdown",
   "id": "f6ef0c2d",
   "metadata": {},
   "source": [
    "## Get Data From The Federal Reserve (FRED)"
   ]
  },
  {
   "cell_type": "markdown",
   "id": "a4ff845a",
   "metadata": {},
   "source": [
    "### Links\n",
    "- [St. Louis FRED](https://fred.stlouisfed.org/)"
   ]
  },
  {
   "cell_type": "markdown",
   "id": "5d87b086",
   "metadata": {},
   "source": [
    "## Install FRED API"
   ]
  },
  {
   "cell_type": "code",
   "execution_count": null,
   "id": "4c5caaf8",
   "metadata": {},
   "outputs": [],
   "source": [
    "!pip install fredapi"
   ]
  },
  {
   "cell_type": "markdown",
   "id": "014c4f01",
   "metadata": {},
   "source": [
    "## Import Packages & Modules"
   ]
  },
  {
   "cell_type": "code",
   "execution_count": 4,
   "id": "d00ce4e8",
   "metadata": {},
   "outputs": [],
   "source": [
    "import fredapi as fa\n",
    "import pandas as pd\n",
    "from local_settings import fred as settings"
   ]
  },
  {
   "cell_type": "code",
   "execution_count": 6,
   "id": "69a6d106",
   "metadata": {},
   "outputs": [],
   "source": [
    "fred = fa.Fred(settings['api_key'])"
   ]
  },
  {
   "cell_type": "code",
   "execution_count": 11,
   "id": "1a65c961",
   "metadata": {},
   "outputs": [
    {
     "data": {
      "text/plain": [
       "2020-07-01    21138.574\n",
       "2020-10-01    21477.597\n",
       "2021-01-01    22038.226\n",
       "2021-04-01    22740.959\n",
       "2021-07-01    23173.496\n",
       "Name: gdp, dtype: float64"
      ]
     },
     "execution_count": 11,
     "metadata": {},
     "output_type": "execute_result"
    }
   ],
   "source": [
    "gdp = fred.get_series('GDP')\n",
    "gdp.name = 'gdp'\n",
    "gdp.tail()"
   ]
  },
  {
   "cell_type": "code",
   "execution_count": 12,
   "id": "21440952",
   "metadata": {},
   "outputs": [],
   "source": [
    "wcurcir = fred.get_series('WCURCIR')\n",
    "wcurcir.name = 'wcurcir'"
   ]
  },
  {
   "cell_type": "code",
   "execution_count": 13,
   "id": "0c5f5147",
   "metadata": {},
   "outputs": [
    {
     "data": {
      "text/html": [
       "<div>\n",
       "<style scoped>\n",
       "    .dataframe tbody tr th:only-of-type {\n",
       "        vertical-align: middle;\n",
       "    }\n",
       "\n",
       "    .dataframe tbody tr th {\n",
       "        vertical-align: top;\n",
       "    }\n",
       "\n",
       "    .dataframe thead th {\n",
       "        text-align: right;\n",
       "    }\n",
       "</style>\n",
       "<table border=\"1\" class=\"dataframe\">\n",
       "  <thead>\n",
       "    <tr style=\"text-align: right;\">\n",
       "      <th></th>\n",
       "      <th>gdp</th>\n",
       "      <th>wcurcir</th>\n",
       "    </tr>\n",
       "  </thead>\n",
       "  <tbody>\n",
       "    <tr>\n",
       "      <th>1986-01-01</th>\n",
       "      <td>4507.894</td>\n",
       "      <td>197.252</td>\n",
       "    </tr>\n",
       "    <tr>\n",
       "      <th>1986-10-01</th>\n",
       "      <td>4657.627</td>\n",
       "      <td>200.310</td>\n",
       "    </tr>\n",
       "    <tr>\n",
       "      <th>1987-04-01</th>\n",
       "      <td>4806.160</td>\n",
       "      <td>207.376</td>\n",
       "    </tr>\n",
       "    <tr>\n",
       "      <th>1987-07-01</th>\n",
       "      <td>4884.555</td>\n",
       "      <td>214.574</td>\n",
       "    </tr>\n",
       "    <tr>\n",
       "      <th>1992-01-01</th>\n",
       "      <td>6363.102</td>\n",
       "      <td>307.620</td>\n",
       "    </tr>\n",
       "    <tr>\n",
       "      <th>1992-04-01</th>\n",
       "      <td>6470.763</td>\n",
       "      <td>302.935</td>\n",
       "    </tr>\n",
       "    <tr>\n",
       "      <th>1992-07-01</th>\n",
       "      <td>6566.641</td>\n",
       "      <td>310.268</td>\n",
       "    </tr>\n",
       "    <tr>\n",
       "      <th>1997-01-01</th>\n",
       "      <td>8362.655</td>\n",
       "      <td>449.867</td>\n",
       "    </tr>\n",
       "    <tr>\n",
       "      <th>1997-10-01</th>\n",
       "      <td>8765.907</td>\n",
       "      <td>457.144</td>\n",
       "    </tr>\n",
       "    <tr>\n",
       "      <th>1998-04-01</th>\n",
       "      <td>8969.699</td>\n",
       "      <td>473.740</td>\n",
       "    </tr>\n",
       "    <tr>\n",
       "      <th>1998-07-01</th>\n",
       "      <td>9121.097</td>\n",
       "      <td>482.139</td>\n",
       "    </tr>\n",
       "    <tr>\n",
       "      <th>2003-01-01</th>\n",
       "      <td>11174.129</td>\n",
       "      <td>686.685</td>\n",
       "    </tr>\n",
       "    <tr>\n",
       "      <th>2003-10-01</th>\n",
       "      <td>11772.234</td>\n",
       "      <td>696.782</td>\n",
       "    </tr>\n",
       "    <tr>\n",
       "      <th>2008-10-01</th>\n",
       "      <td>14608.208</td>\n",
       "      <td>836.296</td>\n",
       "    </tr>\n",
       "    <tr>\n",
       "      <th>2009-04-01</th>\n",
       "      <td>14381.236</td>\n",
       "      <td>902.604</td>\n",
       "    </tr>\n",
       "    <tr>\n",
       "      <th>2009-07-01</th>\n",
       "      <td>14448.882</td>\n",
       "      <td>907.936</td>\n",
       "    </tr>\n",
       "    <tr>\n",
       "      <th>2014-01-01</th>\n",
       "      <td>17144.281</td>\n",
       "      <td>1240.461</td>\n",
       "    </tr>\n",
       "    <tr>\n",
       "      <th>2014-10-01</th>\n",
       "      <td>17852.540</td>\n",
       "      <td>1289.118</td>\n",
       "    </tr>\n",
       "    <tr>\n",
       "      <th>2015-04-01</th>\n",
       "      <td>18193.707</td>\n",
       "      <td>1357.822</td>\n",
       "    </tr>\n",
       "    <tr>\n",
       "      <th>2015-07-01</th>\n",
       "      <td>18306.960</td>\n",
       "      <td>1366.614</td>\n",
       "    </tr>\n",
       "    <tr>\n",
       "      <th>2020-01-01</th>\n",
       "      <td>21481.367</td>\n",
       "      <td>1805.880</td>\n",
       "    </tr>\n",
       "    <tr>\n",
       "      <th>2020-04-01</th>\n",
       "      <td>19477.444</td>\n",
       "      <td>1876.839</td>\n",
       "    </tr>\n",
       "    <tr>\n",
       "      <th>2020-07-01</th>\n",
       "      <td>21138.574</td>\n",
       "      <td>1967.076</td>\n",
       "    </tr>\n",
       "  </tbody>\n",
       "</table>\n",
       "</div>"
      ],
      "text/plain": [
       "                  gdp   wcurcir\n",
       "1986-01-01   4507.894   197.252\n",
       "1986-10-01   4657.627   200.310\n",
       "1987-04-01   4806.160   207.376\n",
       "1987-07-01   4884.555   214.574\n",
       "1992-01-01   6363.102   307.620\n",
       "1992-04-01   6470.763   302.935\n",
       "1992-07-01   6566.641   310.268\n",
       "1997-01-01   8362.655   449.867\n",
       "1997-10-01   8765.907   457.144\n",
       "1998-04-01   8969.699   473.740\n",
       "1998-07-01   9121.097   482.139\n",
       "2003-01-01  11174.129   686.685\n",
       "2003-10-01  11772.234   696.782\n",
       "2008-10-01  14608.208   836.296\n",
       "2009-04-01  14381.236   902.604\n",
       "2009-07-01  14448.882   907.936\n",
       "2014-01-01  17144.281  1240.461\n",
       "2014-10-01  17852.540  1289.118\n",
       "2015-04-01  18193.707  1357.822\n",
       "2015-07-01  18306.960  1366.614\n",
       "2020-01-01  21481.367  1805.880\n",
       "2020-04-01  19477.444  1876.839\n",
       "2020-07-01  21138.574  1967.076"
      ]
     },
     "execution_count": 13,
     "metadata": {},
     "output_type": "execute_result"
    }
   ],
   "source": [
    "df = pd.merge(gdp, wcurcir, left_index=True, right_index=True)\n",
    "df"
   ]
  }
 ],
 "metadata": {
  "kernelspec": {
   "display_name": "Python 3 (ipykernel)",
   "language": "python",
   "name": "python3"
  },
  "language_info": {
   "codemirror_mode": {
    "name": "ipython",
    "version": 3
   },
   "file_extension": ".py",
   "mimetype": "text/x-python",
   "name": "python",
   "nbconvert_exporter": "python",
   "pygments_lexer": "ipython3",
   "version": "3.9.7"
  }
 },
 "nbformat": 4,
 "nbformat_minor": 5
}
