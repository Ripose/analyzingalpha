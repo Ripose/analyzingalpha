version https://git-lfs.github.com/spec/v1
oid sha256:0c740ca7ed0a3d893a2eb15cc058eec7bd7b4ffb8cb57f4ca42aaa64c5f3bb56
size 100021
