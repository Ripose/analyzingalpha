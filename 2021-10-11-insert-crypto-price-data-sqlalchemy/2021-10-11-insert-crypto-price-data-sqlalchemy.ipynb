{
 "cells": [
  {
   "cell_type": "markdown",
   "id": "12554bcb",
   "metadata": {},
   "source": [
    "# Crypto Price Data Import & Resample"
   ]
  },
  {
   "cell_type": "markdown",
   "id": "81181e87",
   "metadata": {},
   "source": [
    "#### Download Links:\n",
    "- [Kaggle Minutely Cryptocurrency Price History](https://www.kaggle.com/tencars/392-crypto-currency-pairs-at-minute-resolution)\n",
    "- [Get Historical Crypto Price Data YouTube Video](https://youtu.be/dCBLFPlZcck)"
   ]
  },
  {
   "cell_type": "markdown",
   "id": "834a6153",
   "metadata": {},
   "source": [
    "## 1. Get Imports"
   ]
  },
  {
   "cell_type": "code",
   "execution_count": null,
   "id": "a110f989",
   "metadata": {},
   "outputs": [],
   "source": [
    "import datetime as dt\n",
    "import numpy as np\n",
    "import pandas as pd"
   ]
  },
  {
   "cell_type": "markdown",
   "id": "89c1b240",
   "metadata": {},
   "source": [
    "## 2. Import Universe"
   ]
  },
  {
   "cell_type": "code",
   "execution_count": null,
   "id": "6c47ca4b",
   "metadata": {},
   "outputs": [],
   "source": [
    "from zipfile import ZipFile\n",
    "zf = ZipFile('/home/leosmigel/Downloads/archive.zip')\n",
    "cols = ['time', 'open', 'high', 'low', 'close', 'volume']"
   ]
  },
  {
   "cell_type": "code",
   "execution_count": null,
   "id": "483e30c7",
   "metadata": {},
   "outputs": [],
   "source": [
    "dfs = pd.concat({text_file.filename.split('.')[0]: pd.read_csv(zf.open(text_file.filename),\n",
    "                                                              usecols=cols)\n",
    "                \n",
    "                for text_file in zf.infolist()\n",
    "                if text_file.filename.endswith('.csv')\n",
    "                })\n",
    "dfs"
   ]
  },
  {
   "cell_type": "code",
   "execution_count": null,
   "id": "de08c430",
   "metadata": {},
   "outputs": [],
   "source": [
    "df = dfs.droplevel(1).reset_index().rename(columns={'index':'ticker'})\n",
    "df = df[df['ticker'].str.contains('usd')]\n",
    "df['date'] = pd.to_datetime(df['time'], unit='ms')\n",
    "df = df.sort_values(by=['date','ticker'])\n",
    "df = df.drop(columns='time')\n",
    "df = df.set_index(['date','ticker'])\n",
    "df = df['2020-07-01':'2020-12-31']\n",
    "df"
   ]
  },
  {
   "cell_type": "markdown",
   "id": "8fa5a6ae",
   "metadata": {},
   "source": [
    "## 4. Resample Timeframes"
   ]
  },
  {
   "cell_type": "code",
   "execution_count": null,
   "id": "4a772479",
   "metadata": {},
   "outputs": [],
   "source": [
    "bars1m = df\n",
    "bars1m = bars1m.reset_index().set_index('date').groupby('ticker').resample('1min').last().droplevel(0)\n",
    "bars1m.loc[:, bars1m.columns[:-1]] = bars1m[bars1m.columns[:-1]].ffill()\n",
    "bars1m.loc[:, 'volume'] = bars1m['volume'].fillna(value=0.0)\n",
    "bars1m = bars1m.reset_index().sort_values(by=['date','ticker']).set_index(['date','ticker'])\n",
    "bars1m"
   ]
  },
  {
   "cell_type": "markdown",
   "id": "4bbd1511",
   "metadata": {},
   "source": [
    "# Insert Price Data"
   ]
  },
  {
   "cell_type": "markdown",
   "id": "a67ec161",
   "metadata": {},
   "source": [
    "## 1. Get Symbols"
   ]
  },
  {
   "cell_type": "code",
   "execution_count": null,
   "id": "627863a8",
   "metadata": {},
   "outputs": [],
   "source": [
    "tickers = bars1m.index.get_level_values(1).unique()\n",
    "tickers"
   ]
  },
  {
   "cell_type": "code",
   "execution_count": null,
   "id": "9f1374c1",
   "metadata": {},
   "outputs": [],
   "source": [
    "active_tickers = bars1m['2020-12-30':].index.get_level_values(1).unique()\n",
    "active_tickers"
   ]
  },
  {
   "cell_type": "markdown",
   "id": "4c1d14b8",
   "metadata": {},
   "source": [
    "## 2. Create Symbols Dataframe"
   ]
  },
  {
   "cell_type": "code",
   "execution_count": null,
   "id": "a2f162e9",
   "metadata": {},
   "outputs": [],
   "source": [
    "symbols = pd.DataFrame(tickers)\n",
    "symbols['name'] = symbols['ticker']\n",
    "symbols['market'] = 'crypto'\n",
    "symbols['active'] = np.where(symbols['ticker'].isin(active_tickers), True, False)\n",
    "symbols = symbols.sort_values(by='ticker')\n",
    "symbols"
   ]
  },
  {
   "cell_type": "markdown",
   "id": "c1191dc4",
   "metadata": {},
   "source": [
    "## 3. Create MinuteBar DataFrame"
   ]
  },
  {
   "cell_type": "code",
   "execution_count": null,
   "id": "0394fd49",
   "metadata": {},
   "outputs": [],
   "source": [
    "minute_bars = bars1m.reset_index().sort_values(by=['ticker','date']).set_index(['ticker','date'])\n",
    "minute_bars"
   ]
  },
  {
   "cell_type": "markdown",
   "id": "a95822e5",
   "metadata": {},
   "source": [
    "## 4. Insert Data"
   ]
  },
  {
   "cell_type": "code",
   "execution_count": null,
   "id": "8519ee9f",
   "metadata": {},
   "outputs": [],
   "source": [
    "from psql import db, session\n",
    "from models import Symbol, MinuteBar"
   ]
  },
  {
   "cell_type": "code",
   "execution_count": null,
   "id": "cf5ac233",
   "metadata": {},
   "outputs": [],
   "source": [
    "for i, r in symbols.iterrows():\n",
    "    symbol = Symbol(ticker=r['ticker'],\n",
    "                    name=r['name'],\n",
    "                    market=r['market'],\n",
    "                    active=r['active'])\n",
    "    session.add(symbol)\n",
    "    session.commit()\n",
    "    \n",
    "    bars = minute_bars.xs(r['ticker']).reset_index()\n",
    "    bars['symbol_id'] = symbol.id\n",
    "    \n",
    "    session.bulk_insert_mappings(MinuteBar,\n",
    "                                bars.to_dict(orient='records'))\n",
    "    session.commit()"
   ]
  }
 ],
 "metadata": {
  "kernelspec": {
   "display_name": "Python 3 (ipykernel)",
   "language": "python",
   "name": "python3"
  },
  "language_info": {
   "codemirror_mode": {
    "name": "ipython",
    "version": 3
   },
   "file_extension": ".py",
   "mimetype": "text/x-python",
   "name": "python",
   "nbconvert_exporter": "python",
   "pygments_lexer": "ipython3",
   "version": "3.9.7"
  }
 },
 "nbformat": 4,
 "nbformat_minor": 5
}
